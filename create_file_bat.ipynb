{
 "cells": [
  {
   "cell_type": "markdown",
   "metadata": {},
   "source": [
    "1.  Hướng dẫn tạo file .bat để active một virtual env và chạy file python và ghi ra file log"
   ]
  },
  {
   "cell_type": "code",
   "execution_count": null,
   "metadata": {
    "vscode": {
     "languageId": "bat"
    }
   },
   "outputs": [],
   "source": [
    "Rem File này sử dụng cmd/k để tạo ra của sổ mới để active một môt trường ảo. Để tối ưu lên sử sụng cách này để không bị sung đột\n",
    "@echo off\n",
    "cmd /k \"path\\to\\activate\\environment_name && python path\\to\\your_script.py >> path\\to\\logs.txt\"\n"
   ]
  },
  {
   "attachments": {},
   "cell_type": "markdown",
   "metadata": {},
   "source": [
    "Trong đó:\n",
    "\n",
    "@echo off được sử dụng để tắt thông báo tiến trình của batch file.\n",
    "\n",
    "cmd /k được sử dụng để tạo ra một command prompt mới với sự kích hoạt môi trường ảo Python được thực hiện trước khi chạy script của bạn.\n",
    "\n",
    "path\\to\\activate\\environment_name là đường dẫn đến file \"activate.bat\" trong môi trường ảo của bạn.\n",
    "\n",
    "python path\\to\\your_script.py là lệnh để chạy script của bạn (thay đổi \"path\\to\\your_script.py\" thành đường dẫn đến script của bạn).\n",
    "\n",
    "Lưu ý rằng việc sử dụng \\k sẽ giúp cho cửa sổ Command Prompt mới được tạo ra theo cách bạn mong muốn.\n",
    "\n",
    "\" >> giúp ta ghi file nối tiếp vào file log cũ nếu file log đã tồn tại\"\n",
    "\n",
    "\" > giúp ta ghi đè\""
   ]
  }
 ],
 "metadata": {
  "language_info": {
   "name": "python"
  },
  "orig_nbformat": 4
 },
 "nbformat": 4,
 "nbformat_minor": 2
}
