{
 "cells": [
  {
   "cell_type": "code",
   "execution_count": 3,
   "metadata": {},
   "outputs": [
    {
     "name": "stdout",
     "output_type": "stream",
     "text": [
      "200/2 = 100 dư 0\n",
      "100/2 = 50 dư 0\n",
      "50/2 = 25 dư 0\n",
      "25/2 = 12 dư 1\n",
      "12/2 = 6 dư 0\n",
      "6/2 = 3 dư 0\n",
      "3/2 = 1 dư 1\n",
      "1/2 = 0 dư 1\n",
      "Kết quả chuyển từ 200 sàng nhị phân là 11001000 \n",
      "Kiểm tra Kết quả chuyển từ 200 sàng nhị phân là 0b11001000 \n"
     ]
    }
   ],
   "source": [
    "# Viết một chương trình chuyển giá trị nhập vào từ thập phân sang nhị phân\n",
    "out = ''\n",
    "n = int(input(\"Nhập vào giá trị bạn muốn chuyển sang nhị phân: \"))\n",
    "p = n\n",
    "while n> 0 :\n",
    "    out = out + str(n%2)\n",
    "    print('{0}/2 = {1} dư {2}'.format(n,int(n/2),n%2))\n",
    "    n = int(n/2)\n",
    "else:\n",
    "    print('Kết quả chuyển từ {} sàng nhị phân là {} '.format(p,out[::-1]))\n",
    "    print('Kiểm tra Kết quả chuyển từ {} sàng nhị phân là {} '.format(p,bin(p)))"
   ]
  }
 ],
 "metadata": {
  "kernelspec": {
   "display_name": "Python 3",
   "language": "python",
   "name": "python3"
  },
  "language_info": {
   "codemirror_mode": {
    "name": "ipython",
    "version": 3
   },
   "file_extension": ".py",
   "mimetype": "text/x-python",
   "name": "python",
   "nbconvert_exporter": "python",
   "pygments_lexer": "ipython3",
   "version": "3.10.10"
  },
  "orig_nbformat": 4
 },
 "nbformat": 4,
 "nbformat_minor": 2
}
