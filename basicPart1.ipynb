{
 "cells": [
  {
   "cell_type": "code",
   "execution_count": 3,
   "metadata": {},
   "outputs": [
    {
     "name": "stdout",
     "output_type": "stream",
     "text": [
      "14\n"
     ]
    }
   ],
   "source": [
    "'''\n",
    "16. Write a Python program to calculate the difference between a given number and 17. If the number is greater than 17, return twice the absolute difference\n",
    "'''\n",
    "\n",
    "def calculare_job1(input_number):\n",
    "    if input_number > 17:\n",
    "        out_put = (input_number - 17)*2\n",
    "    else:\n",
    "        out_put = abs(input_number - 17)\n",
    "\n",
    "    return out_put\n",
    "\n",
    "print (calculare_job1(3))"
   ]
  },
  {
   "cell_type": "code",
   "execution_count": 5,
   "metadata": {},
   "outputs": [
    {
     "name": "stdout",
     "output_type": "stream",
     "text": [
      "my_set is {1, 2}\n",
      "length my_set is 2\n",
      "result is 4\n"
     ]
    }
   ],
   "source": [
    "'''\n",
    "18. Write a Python program to calculate the sum of three given numbers. If the values are equal, return three times their sum\n",
    "'''\n",
    "\n",
    "def sum1_function(input1,input2,input3):\n",
    "    my_list = [input1,input2,input3]\n",
    "    my_set = set(my_list)\n",
    "    print(\"my_set is {}\".format(my_set))\n",
    "    length_my_set = len(my_set)\n",
    "    print(\"length my_set is {}\".format(length_my_set))\n",
    "    if length_my_set == 1:\n",
    "        t_sum = (input1 + input2 + input3)*3\n",
    "    else:\n",
    "        t_sum = input1 + input2 + input3\n",
    "\n",
    "    return t_sum\n",
    "\n",
    "result = sum1_function(1,2,1)\n",
    "\n",
    "print(\"result is {}\".format(result))"
   ]
  },
  {
   "cell_type": "code",
   "execution_count": 7,
   "metadata": {},
   "outputs": [
    {
     "name": "stdout",
     "output_type": "stream",
     "text": [
      "o_string is IsManh\n"
     ]
    }
   ],
   "source": [
    "'''19. Write a Python program to get a newly-generated string from a given string where \"Is\" has been added to the front. Return the string unchanged if the given string already begins with \"Is\".\n",
    "'''\n",
    "\n",
    "def exam_19(i_string):\n",
    "    if(i_string == 'Is'):\n",
    "        o_string = 'Is'\n",
    "    else:\n",
    "        o_string = 'Is'+i_string\n",
    "    return o_string\n",
    "\n",
    "\n",
    "\n",
    "o_string = exam_19('Manh')\n",
    "print(\"o_string is {}\".format(o_string))\n"
   ]
  },
  {
   "cell_type": "code",
   "execution_count": 9,
   "metadata": {},
   "outputs": [
    {
     "name": "stdout",
     "output_type": "stream",
     "text": [
      "o_string is ManhManhManh\n"
     ]
    }
   ],
   "source": [
    "'''\n",
    "20. Write a Python program that returns a string that is n (non-negative integer) copies of a given string\n",
    "'''\n",
    "def exam_20(i_string,i_int):\n",
    "    \n",
    "    o_string = i_string*i_int\n",
    "    return o_string\n",
    "\n",
    "\n",
    "\n",
    "o_string = exam_20('Manh',3)\n",
    "print(\"o_string is {}\".format(o_string))\n"
   ]
  },
  {
   "cell_type": "code",
   "execution_count": 21,
   "metadata": {},
   "outputs": [
    {
     "name": "stdout",
     "output_type": "stream",
     "text": [
      "sub_string is M\n"
     ]
    }
   ],
   "source": [
    "'''\n",
    "21. Write a Python program that determines whether a given number (accepted from the user) is even or odd, and prints an appropriate message to the user.\n",
    "'''\n",
    "\n",
    "my_string = 'Manh'\n",
    "sub_string = my_string[:1]\n",
    "print(\"sub_string is {}\".format(sub_string))\n"
   ]
  }
 ],
 "metadata": {
  "kernelspec": {
   "display_name": "pylearning",
   "language": "python",
   "name": "python3"
  },
  "language_info": {
   "codemirror_mode": {
    "name": "ipython",
    "version": 3
   },
   "file_extension": ".py",
   "mimetype": "text/x-python",
   "name": "python",
   "nbconvert_exporter": "python",
   "pygments_lexer": "ipython3",
   "version": "3.10.10"
  },
  "orig_nbformat": 4
 },
 "nbformat": 4,
 "nbformat_minor": 2
}
