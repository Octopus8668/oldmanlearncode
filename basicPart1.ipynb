{
 "cells": [
  {
   "cell_type": "code",
   "execution_count": 3,
   "metadata": {},
   "outputs": [
    {
     "name": "stdout",
     "output_type": "stream",
     "text": [
      "14\n"
     ]
    }
   ],
   "source": [
    "'''\n",
    "16. Write a Python program to calculate the difference between a given number and 17. If the number is greater than 17, return twice the absolute difference\n",
    "'''\n",
    "\n",
    "def calculare_job1(input_number):\n",
    "    if input_number > 17:\n",
    "        out_put = (input_number - 17)*2\n",
    "    else:\n",
    "        out_put = abs(input_number - 17)\n",
    "\n",
    "    return out_put\n",
    "\n",
    "print (calculare_job1(3))"
   ]
  },
  {
   "cell_type": "code",
   "execution_count": 5,
   "metadata": {},
   "outputs": [
    {
     "name": "stdout",
     "output_type": "stream",
     "text": [
      "my_set is {1, 2}\n",
      "length my_set is 2\n",
      "result is 4\n"
     ]
    }
   ],
   "source": [
    "'''\n",
    "18. Write a Python program to calculate the sum of three given numbers. If the values are equal, return three times their sum\n",
    "'''\n",
    "\n",
    "def sum1_function(input1,input2,input3):\n",
    "    my_list = [input1,input2,input3]\n",
    "    my_set = set(my_list)\n",
    "    print(\"my_set is {}\".format(my_set))\n",
    "    length_my_set = len(my_set)\n",
    "    print(\"length my_set is {}\".format(length_my_set))\n",
    "    if length_my_set == 1:\n",
    "        t_sum = (input1 + input2 + input3)*3\n",
    "    else:\n",
    "        t_sum = input1 + input2 + input3\n",
    "\n",
    "    return t_sum\n",
    "\n",
    "result = sum1_function(1,2,1)\n",
    "\n",
    "print(\"result is {}\".format(result))"
   ]
  },
  {
   "cell_type": "code",
   "execution_count": 7,
   "metadata": {},
   "outputs": [
    {
     "name": "stdout",
     "output_type": "stream",
     "text": [
      "o_string is IsManh\n"
     ]
    }
   ],
   "source": [
    "'''19. Write a Python program to get a newly-generated string from a given string where \"Is\" has been added to the front. Return the string unchanged if the given string already begins with \"Is\".\n",
    "'''\n",
    "\n",
    "def exam_19(i_string):\n",
    "    if(i_string == 'Is'):\n",
    "        o_string = 'Is'\n",
    "    else:\n",
    "        o_string = 'Is'+i_string\n",
    "    return o_string\n",
    "\n",
    "\n",
    "\n",
    "o_string = exam_19('Manh')\n",
    "print(\"o_string is {}\".format(o_string))\n"
   ]
  },
  {
   "cell_type": "code",
   "execution_count": 9,
   "metadata": {},
   "outputs": [
    {
     "name": "stdout",
     "output_type": "stream",
     "text": [
      "o_string is ManhManhManh\n"
     ]
    }
   ],
   "source": [
    "'''\n",
    "20. Write a Python program that returns a string that is n (non-negative integer) copies of a given string\n",
    "'''\n",
    "def exam_20(i_string,i_int):\n",
    "    \n",
    "    o_string = i_string*i_int\n",
    "    return o_string\n",
    "\n",
    "\n",
    "\n",
    "o_string = exam_20('Manh',3)\n",
    "print(\"o_string is {}\".format(o_string))\n"
   ]
  },
  {
   "cell_type": "code",
   "execution_count": 21,
   "metadata": {},
   "outputs": [
    {
     "name": "stdout",
     "output_type": "stream",
     "text": [
      "sub_string is M\n"
     ]
    }
   ],
   "source": [
    "'''\n",
    "21. Write a Python program that determines whether a given number (accepted from the user) is even or odd, and prints an appropriate message to the user.\n",
    "'''\n",
    "\n",
    "my_string = 'Manh'\n",
    "sub_string = my_string[:1]\n",
    "print(\"sub_string is {}\".format(sub_string))\n"
   ]
  },
  {
   "cell_type": "code",
   "execution_count": 2,
   "metadata": {},
   "outputs": [
    {
     "name": "stdout",
     "output_type": "stream",
     "text": [
      "result is False\n"
     ]
    }
   ],
   "source": [
    "'''\n",
    "25. Write a Python program that checks whether a specified value is contained within a group of values. Go to the editor\n",
    "Test Data :\n",
    "3 -> [1, 5, 8, 3] : True\n",
    "-1 -> [1, 5, 8, 3] : False\n",
    "'''\n",
    "\n",
    "def exam_25(input_list,input_check):\n",
    "    if input_check in input_list:\n",
    "        return True\n",
    "    else:\n",
    "        return False\n",
    "    \n",
    "\n",
    "result = exam_25 ([1,5,6,7],-5)\n",
    "\n",
    "print(\"result is {}\".format(result))"
   ]
  },
  {
   "cell_type": "code",
   "execution_count": 5,
   "metadata": {},
   "outputs": [
    {
     "name": "stdout",
     "output_type": "stream",
     "text": [
      "result is manhmai11\n"
     ]
    }
   ],
   "source": [
    "'''\n",
    "27. Write a Python program that concatenates all elements in a list into a string and returns it.\n",
    "'''\n",
    "\n",
    "def exam_27(input_list):\n",
    "    out_string = ''\n",
    "    for each in input_list:\n",
    "        out_string += str(each)\n",
    "    return out_string\n",
    "\n",
    "\n",
    "result = exam_27(['manh','mai',11])\n",
    "\n",
    "print(\"result is {}\".format(result))"
   ]
  },
  {
   "cell_type": "code",
   "execution_count": 6,
   "metadata": {},
   "outputs": [
    {
     "name": "stdout",
     "output_type": "stream",
     "text": [
      "result is [236, 162, 104, 58, 24]\n"
     ]
    }
   ],
   "source": [
    "'''\n",
    "28. Write a Python program to print all even numbers from a given list of numbers in the same order and stop printing any after 237 in the sequence. Go to the editor\n",
    "Sample numbers list :\n",
    "\n",
    "numbers = [    \n",
    "    386, 462, 47, 418, 907, 344, 236, 375, 823, 566, 597, 978, 328, 615, 953, 345, \n",
    "    399, 162, 758, 219, 918, 237, 412, 566, 826, 248, 866, 950, 626, 949, 687, 217, \n",
    "    815, 67, 104, 58, 512, 24, 892, 894, 767, 553, 81, 379, 843, 831, 445, 742, 717, \n",
    "    958,743, 527\n",
    "    ]\n",
    "'''\n",
    "\n",
    "def exam_28(input_list):\n",
    "    out_list = []\n",
    "\n",
    "    for each in input_list:\n",
    "        if each%2 == 0 and each <237:\n",
    "            out_list.append(each)\n",
    "\n",
    "    \n",
    "    return out_list\n",
    "\n",
    "numbers = [    \n",
    "    386, 462, 47, 418, 907, 344, 236, 375, 823, 566, 597, 978, 328, 615, 953, 345, \n",
    "    399, 162, 758, 219, 918, 237, 412, 566, 826, 248, 866, 950, 626, 949, 687, 217, \n",
    "    815, 67, 104, 58, 512, 24, 892, 894, 767, 553, 81, 379, 843, 831, 445, 742, 717, \n",
    "    958,743, 527\n",
    "    ]\n",
    "\n",
    "result = exam_28(numbers)\n",
    "\n",
    "print(\"result is {}\".format(result))\n"
   ]
  },
  {
   "cell_type": "code",
   "execution_count": 9,
   "metadata": {},
   "outputs": [
    {
     "name": "stdout",
     "output_type": "stream",
     "text": [
      "result is ['White', 'Black']\n"
     ]
    }
   ],
   "source": [
    "''' \n",
    "29. Write a Python program that prints out all colors from color_list_1 that are not present in color_list_2. Go to the editor\n",
    "Test Data :\n",
    "color_list_1 = set([\"White\", \"Black\", \"Red\"])\n",
    "color_list_2 = set([\"Red\", \"Green\"])\n",
    "Expected Output :\n",
    "{'Black', 'White'}\n",
    "'''\n",
    "\n",
    "def exam_29(list_1, list_2):\n",
    "    list_1 = set(list_1)\n",
    "    list_2 = set(list_2)\n",
    "    out_list = []\n",
    "    for each in list_1:\n",
    "        if each not in list_2:\n",
    "            out_list.append(each)\n",
    "        \n",
    "    return out_list\n",
    "\n",
    "color_list_1 = [\"White\", \"Black\", \"Red\",\"Black\"]\n",
    "color_list_2 = [\"Red\", \"Green\"]\n",
    "\n",
    "\n",
    "result = exam_29(color_list_1,color_list_2)\n",
    "\n",
    "print(\"result is {}\".format(result))"
   ]
  },
  {
   "cell_type": "code",
   "execution_count": 10,
   "metadata": {},
   "outputs": [
    {
     "name": "stdout",
     "output_type": "stream",
     "text": [
      "result is 10.5\n"
     ]
    }
   ],
   "source": [
    "'''\n",
    "30. Write a Python program that will accept the base and height of a triangle and compute its area.\n",
    "'''\n",
    "\n",
    "def exam_30(base,heigh):\n",
    "    o_area = (base*heigh)/2\n",
    "    return o_area\n",
    "\n",
    "result = exam_30(3,7)\n",
    "\n",
    "print(\"result is {}\".format(result))"
   ]
  },
  {
   "cell_type": "code",
   "execution_count": 15,
   "metadata": {},
   "outputs": [
    {
     "name": "stdout",
     "output_type": "stream",
     "text": [
      "7\n",
      "3\n",
      "3\n",
      "1\n",
      "1\n",
      "0\n",
      "result is 1\n",
      "7\n",
      "3\n",
      "3\n",
      "1\n",
      "1\n",
      "0\n",
      "result is 21\n"
     ]
    }
   ],
   "source": [
    "'''\n",
    "31. Write a Python program that computes the greatest common divisor (GCD) of two positive integers. Go to the editor\n",
    "Click me to see the sample solution\n",
    "32. Write a Python program to find the least common multiple (LCM) of two positive integers.\n",
    "'''\n",
    "\n",
    "def gcd(a,b):\n",
    "    while(b):\n",
    "        a, b = b, a%b\n",
    "        print(a)\n",
    "        print(b)  \n",
    "    return a\n",
    "\n",
    "def lcm(a,b):\n",
    "    return (a*b)// gcd(a,b)\n",
    "\n",
    "result = gcd(3,7)\n",
    "\n",
    "print(\"result is {}\".format(result))\n",
    "\n",
    "result = lcm(3,7)\n",
    "\n",
    "print(\"result is {}\".format(result))\n"
   ]
  },
  {
   "cell_type": "code",
   "execution_count": 17,
   "metadata": {},
   "outputs": [
    {
     "name": "stdout",
     "output_type": "stream",
     "text": [
      "result is 0\n"
     ]
    }
   ],
   "source": [
    "'''\n",
    "33. Write a Python program to sum three given integers. However, if two values are equal, the sum will be zero\n",
    "'''\n",
    "\n",
    "def exam33(a,b,c):\n",
    "    if a !=b != c:\n",
    "        sum = a +b +c\n",
    "    else:\n",
    "        sum = 0\n",
    "\n",
    "    return sum\n",
    "\n",
    "result = exam33(3,3,7)\n",
    "\n",
    "print(\"result is {}\".format(result))\n",
    "    "
   ]
  },
  {
   "cell_type": "code",
   "execution_count": 21,
   "metadata": {},
   "outputs": [
    {
     "name": "stdout",
     "output_type": "stream",
     "text": [
      "result is 21\n"
     ]
    }
   ],
   "source": [
    "'''\n",
    "34. Write a Python program to sum two given integers. However, if the sum is between 15 and 20 it will return 20.\n",
    "'''\n",
    "\n",
    "def exam_34(a,b):\n",
    "    if a+b in range(15,20):\n",
    "        return 20\n",
    "    else:\n",
    "        return a+b\n",
    "    \n",
    "result = exam_34(5,16)\n",
    "\n",
    "print(\"result is {}\".format(result))"
   ]
  },
  {
   "cell_type": "code",
   "execution_count": 27,
   "metadata": {},
   "outputs": [
    {
     "name": "stdout",
     "output_type": "stream",
     "text": [
      "result is False\n"
     ]
    }
   ],
   "source": [
    "#35. Write a Python program that returns true if the two given integer values are equal or their sum or difference is 5\n",
    "\n",
    "def exam_35(a,b):\n",
    "    if a==b or a+b ==5 or abs(a-b) ==5:\n",
    "        return True\n",
    "    else:\n",
    "        return False\n",
    "    \n",
    "result = exam_35(3,4)\n",
    "\n",
    "print(\"result is {}\".format(result))"
   ]
  },
  {
   "cell_type": "code",
   "execution_count": 37,
   "metadata": {},
   "outputs": [
    {
     "name": "stdout",
     "output_type": "stream",
     "text": [
      "result is Fail\n",
      "<class 'int'>\n"
     ]
    }
   ],
   "source": [
    "#36. Write a Python program to add two objects if both objects are integers.\n",
    "\n",
    "def exam_36(a,b):\n",
    "    if a%1 == b%1 == 0:\n",
    "        print(type(a))\n",
    "        return a+b\n",
    "    else:\n",
    "        return 'Fail'\n",
    "    \n",
    "\n",
    "result = exam_36(3,-3.1)\n",
    "\n",
    "print(\"result is {}\".format(result))\n"
   ]
  },
  {
   "cell_type": "code",
   "execution_count": 39,
   "metadata": {},
   "outputs": [
    {
     "name": "stdout",
     "output_type": "stream",
     "text": [
      "result is 1\n"
     ]
    }
   ],
   "source": [
    "'''\n",
    "38. Write a Python program to solve (x + y) * (x + y). Go to the editor\n",
    "Test Data : x = 4, y = 3\n",
    "Expected Output : (4 + 3) ^ 2) = 49\n",
    "'''\n",
    "\n",
    "def exam_38(a,b):\n",
    "    return (a+b)**2\n",
    "\n",
    "result = exam_38(3,-2)\n",
    "\n",
    "print(\"result is {}\".format(result))"
   ]
  },
  {
   "cell_type": "code",
   "execution_count": 42,
   "metadata": {},
   "outputs": [
    {
     "name": "stdout",
     "output_type": "stream",
     "text": [
      "result is 12450.0\n"
     ]
    }
   ],
   "source": [
    "'''\n",
    "39. Write a Python program to compute the future value of a specified principal amount, rate of interest, and number of years. Go to the editor\n",
    "Test Data : amt = 10000, int = 3.5, years = 7\n",
    "Expected Output : 12722.79\n",
    "Click me to see the sample solution\n",
    "'''\n",
    "\n",
    "def exam_39(amount,rate,year):\n",
    "    return amount + amount*rate*year/100\n",
    "\n",
    "result = exam_39(10000,3.5,7)\n",
    "\n",
    "print(\"result is {}\".format(result))\n"
   ]
  },
  {
   "cell_type": "code",
   "execution_count": 44,
   "metadata": {},
   "outputs": [
    {
     "name": "stdout",
     "output_type": "stream",
     "text": [
      "result is 2.23606797749979\n"
     ]
    }
   ],
   "source": [
    "#40. Write a Python program to calculate the distance between the points (x1, y1) and (x2, y2).\n",
    "import math\n",
    "\n",
    "def exam_40(a_point,b_point):\n",
    "\n",
    "    return math.sqrt((a_point[0]- b_point[0])**2 + (a_point[1]- b_point[1])**2)\n",
    "\n",
    "a_point = [2,5]\n",
    "b_point = [1,3]\n",
    "\n",
    "result = exam_40(a_point,b_point)\n",
    "\n",
    "print(\"result is {}\".format(result))\n"
   ]
  },
  {
   "cell_type": "code",
   "execution_count": 2,
   "metadata": {},
   "outputs": [
    {
     "name": "stdout",
     "output_type": "stream",
     "text": [
      " File 'buoi4.py' exists!\n"
     ]
    }
   ],
   "source": [
    "# 41. Write a Python program to check whether a file exists.\n",
    "\n",
    "import os\n",
    "\n",
    "filename = input(\"Enter the file name: \")\n",
    "\n",
    "if os.path.isfile(filename):\n",
    "    print(f\" File '{filename}' exists!\")\n",
    "else:\n",
    "    print(f\" File '{filename}' not exists!\")"
   ]
  },
  {
   "cell_type": "code",
   "execution_count": 7,
   "metadata": {},
   "outputs": [
    {
     "name": "stdout",
     "output_type": "stream",
     "text": [
      "('64bit', 'WindowsPE')\n"
     ]
    }
   ],
   "source": [
    "#42. Write a Python program to determine if a Python shell is executing in 32bit or 64bit mode on OS\n",
    "\n",
    "import platform\n",
    "\n",
    "version = platform.architecture()\n",
    "\n",
    "print(version)\n"
   ]
  },
  {
   "cell_type": "code",
   "execution_count": 10,
   "metadata": {},
   "outputs": [
    {
     "name": "stdout",
     "output_type": "stream",
     "text": [
      "os_name is nt\n",
      "platform_infor is Windows-10-10.0.19045-SP0\n",
      "platform_realse is 10\n",
      "os.name                      nt\n",
      "sys.platform                 win32\n",
      "platform.system()            Windows\n",
      "sysconfig.get_platform()     win-amd64\n",
      "platform.machine()           AMD64\n",
      "platform.architecture()      ('64bit', 'WindowsPE')\n"
     ]
    }
   ],
   "source": [
    "#43. Write a Python program to get OS name, platform and release information.\n",
    "\n",
    "import os\n",
    "import platform\n",
    "\n",
    "# get os name\n",
    "\n",
    "os_name = os.name\n",
    "\n",
    "# get platform inforamtion\n",
    "\n",
    "platform_infor = platform.platform()\n",
    "\n",
    "# get platfrom release\n",
    "\n",
    "platform_realse = platform.release()\n",
    "\n",
    "\n",
    "print ('os_name is {}'.format(os_name))\n",
    "\n",
    "\n",
    "print ('platform_infor is {}'.format(platform_infor))\n",
    "\n",
    "\n",
    "print ('platform_realse is {}'.format(platform_realse))\n",
    "\n",
    "# version 2\n",
    "\n",
    "import os\n",
    "import sys\n",
    "import platform\n",
    "import sysconfig\n",
    "print(\"os.name                     \", os.name)\n",
    "print(\"sys.platform                \", sys.platform)\n",
    "print(\"platform.system()           \", platform.system())\n",
    "print(\"sysconfig.get_platform()    \", sysconfig.get_platform())\n",
    "print(\"platform.machine()          \", platform.machine())\n",
    "print(\"platform.architecture()     \", platform.architecture())"
   ]
  },
  {
   "cell_type": "code",
   "execution_count": 11,
   "metadata": {},
   "outputs": [
    {
     "name": "stdout",
     "output_type": "stream",
     "text": [
      "['e:\\\\pythonProject\\\\pylearning', 'e:\\\\pythonProject\\\\pylearning\\\\lib\\\\site-packages']\n"
     ]
    }
   ],
   "source": [
    "# 44. Write a Python program to locate Python site packages\n",
    "\n",
    "import site\n",
    "\n",
    "print(site.getsitepackages())\n"
   ]
  },
  {
   "cell_type": "code",
   "execution_count": 2,
   "metadata": {},
   "outputs": [
    {
     "name": "stdout",
     "output_type": "stream",
     "text": [
      "Twinkle, twinkle, little star,\n",
      "\tHow I wonder what you are! \n",
      "\t\tUp above the world so high,   \t\t\n",
      "\t\tLike a diamond in the sky. \n",
      "Twinkle, twinkle, little star, \n",
      "\tHow I wonder what you are\n",
      "Twinkle, twinkle, little star,\n",
      "\tHow I wonder what you are!\n",
      "\t\tUp above the world so high,\n",
      "\t\tLike a diamond in the sky.\n",
      "Twinkle, twinkle, little star,\n",
      "\tHow I wonder what you are\n"
     ]
    }
   ],
   "source": [
    "#1\n",
    "\n",
    "\n",
    "many_rows = '''Twinkle, twinkle, little star,\n",
    "\tHow I wonder what you are! \n",
    "\t\tUp above the world so high,   \t\t\n",
    "\t\tLike a diamond in the sky. \n",
    "Twinkle, twinkle, little star, \n",
    "\tHow I wonder what you are'''\n",
    "\n",
    "print(many_rows) \n",
    "\n",
    "\n",
    "many_rows1 = 'Twinkle, twinkle, little star,\\n\\tHow I wonder what you are!\\n\\t\\tUp above the world so high,\\n\\t\\tLike a diamond in the sky.\\nTwinkle, twinkle, little star,\\n\\tHow I wonder what you are'\n",
    "\n",
    "print(many_rows1) \n"
   ]
  },
  {
   "cell_type": "code",
   "execution_count": null,
   "metadata": {},
   "outputs": [],
   "source": [
    "#2. Write a Python program to find out what version of Python you are using.\n",
    "\n",
    "import sys\n",
    "\n",
    "print('Python version is {}'. format(sys.version))\n",
    "\n",
    "\n"
   ]
  }
 ],
 "metadata": {
  "kernelspec": {
   "display_name": "pylearning",
   "language": "python",
   "name": "python3"
  },
  "language_info": {
   "codemirror_mode": {
    "name": "ipython",
    "version": 3
   },
   "file_extension": ".py",
   "mimetype": "text/x-python",
   "name": "python",
   "nbconvert_exporter": "python",
   "pygments_lexer": "ipython3",
   "version": "3.10.10"
  },
  "orig_nbformat": 4
 },
 "nbformat": 4,
 "nbformat_minor": 2
}
