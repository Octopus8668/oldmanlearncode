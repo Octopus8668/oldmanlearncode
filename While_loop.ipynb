{
 "cells": [
  {
   "cell_type": "code",
   "execution_count": 4,
   "metadata": {},
   "outputs": [
    {
     "name": "stdout",
     "output_type": "stream",
     "text": [
      "Ký tự bạn nhập vào la5 < 0 yêu cầu nhập lại\n"
     ]
    }
   ],
   "source": [
    "# Yêu cầu người dùng nhập vào con số n>0 nếu nhập sai thì yêu cầu nhập lại\n",
    "# Vòng lặp for dừng lại khi điệu kiên sai\n",
    "n = -1\n",
    "while (n <0):\n",
    "    n = int(input(\"Nhập vào n>0 = \"))\n",
    "    if  n < 0:\n",
    "        print('{} <0 bạn nhập lại nhé!!!'.format(n))\n",
    "    else:\n",
    "        print('{} > 0 cảm ơn bạn đã nhập đúng thông tin!!!'.format(n))"
   ]
  },
  {
   "cell_type": "code",
   "execution_count": null,
   "metadata": {},
   "outputs": [],
   "source": [
    "out = ''\n",
    "n = int(input(\"Nhập vào giá trị bạn muốn chuyển sang nhị phân: \"))\n",
    "p = n\n",
    "while n> 0 :\n",
    "    out = out + str(n%2)\n",
    "    print('{0}/2 = {1} dư {2}'.format(n,int(n/2),n%2))\n",
    "    n = int(n/2)\n",
    "else:\n",
    "    print('Kết quả chuyển từ {} sàng nhị phân là {} '.format(p,out[::-1]))\n",
    "    print('Kiểm tra Kết quả chuyển từ {} sàng nhị phân là {} '.format(p,bin(p)))"
   ]
  }
 ],
 "metadata": {
  "kernelspec": {
   "display_name": "Python 3",
   "language": "python",
   "name": "python3"
  },
  "language_info": {
   "codemirror_mode": {
    "name": "ipython",
    "version": 3
   },
   "file_extension": ".py",
   "mimetype": "text/x-python",
   "name": "python",
   "nbconvert_exporter": "python",
   "pygments_lexer": "ipython3",
   "version": "3.10.10"
  },
  "orig_nbformat": 4
 },
 "nbformat": 4,
 "nbformat_minor": 2
}
