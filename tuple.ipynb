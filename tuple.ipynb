{
 "cells": [
  {
   "cell_type": "code",
   "execution_count": null,
   "metadata": {},
   "outputs": [],
   "source": [
    "Trong Python, tuple là một kiểu dữ liệu để lưu trữ một tập hợp các giá trị khác nhau trong cùng một đối tượng. Tương tự như list, tuple cũng được sử dụng để lưu trữ các giá trị có thể thay đổi và truy cập bằng index, nhưng khác với list, tuple là một kiểu dữ liệu bất biến (immutable), nghĩa là không thể thêm, sửa hoặc xóa các phần tử trong tuple sau khi nó đã được khởi tạo.\n",
    "\n",
    "Bạn có thể khởi tạo một tuple trong Python bằng cách sử dụng dấu ngoặc đơn () và tách các phần tử bằng dấu phẩy ,. Ví dụ:"
   ]
  },
  {
   "cell_type": "code",
   "execution_count": 29,
   "metadata": {},
   "outputs": [
    {
     "name": "stdout",
     "output_type": "stream",
     "text": [
      "In toàn bộ tuple: (1, 'Hello', 3.14, True)\n",
      "Độ dài của tuple: 4\n",
      "Count số lương phần tử của tuple: 2\n",
      "0\n",
      "1\n",
      "1\n",
      "Hello\n",
      "2\n",
      "3.14\n",
      "3\n",
      "True\n"
     ]
    }
   ],
   "source": [
    "# các cách xử lý với tuple\n",
    "my_tuple = (1,\"Hello\",3.14,True)\n",
    "print('In toàn bộ tuple: {}'.format(my_tuple))\n",
    "print('Độ dài của tuple: {}'.format(len(my_tuple)))\n",
    "print('Count số lương phần tử của tuple: {}'.format(my_tuple.count(True))) # Count True ra kết quả là 2 bởi vì 1 và True được hiểu là như nhau\n",
    "for i in range(len(my_tuple)):\n",
    "    print(my_tuple[i])\n",
    "\n",
    "# for i in my_tuple:\n",
    "#     print(i)\n",
    "\n"
   ]
  },
  {
   "cell_type": "code",
   "execution_count": 11,
   "metadata": {},
   "outputs": [
    {
     "name": "stdout",
     "output_type": "stream",
     "text": [
      "banana\n"
     ]
    }
   ],
   "source": [
    "#Truy cập một phần tử trong tuple bằng chỉ số:\n",
    "my_tuple = ('apple', 'banana', 'cherry')\n",
    "print(my_tuple[1]) # Output: 'banana'\n"
   ]
  },
  {
   "cell_type": "code",
   "execution_count": 15,
   "metadata": {},
   "outputs": [
    {
     "name": "stdout",
     "output_type": "stream",
     "text": [
      "1\n",
      "<class 'str'>\n",
      "<class 'int'>\n"
     ]
    }
   ],
   "source": [
    "#Truy cập theo chiều âm (từ phần tử cuối cùng):\n",
    "my_tuple = ('apple', 'banana', 'cherry',1)\n",
    "print(my_tuple[-1]) # Output: 'cherry'\n",
    "print(type(my_tuple[1]))\n",
    "print(type(my_tuple[-1]))\n"
   ]
  },
  {
   "cell_type": "code",
   "execution_count": 13,
   "metadata": {},
   "outputs": [
    {
     "name": "stdout",
     "output_type": "stream",
     "text": [
      "('banana', 'cherry', 'orange')\n"
     ]
    }
   ],
   "source": [
    "#Trích xuất một phần hoặc nhiều phần tử liên tiếp:\n",
    "my_tuple = ('apple', 'banana', 'cherry', 'orange', 'kiwi')\n",
    "print(my_tuple[1:4]) # Output: ('banana', 'cherry', 'orange')\n"
   ]
  },
  {
   "cell_type": "code",
   "execution_count": 21,
   "metadata": {},
   "outputs": [
    {
     "name": "stdout",
     "output_type": "stream",
     "text": [
      "True\n"
     ]
    }
   ],
   "source": [
    "#Kiểm tra xem một phần tử có tồn tại trong tuple hay không:\n",
    "my_tuple = ('apple', 'banana', 'cherry')\n",
    "print('apple' in my_tuple) # Output: True\n"
   ]
  },
  {
   "cell_type": "code",
   "execution_count": 24,
   "metadata": {},
   "outputs": [
    {
     "name": "stdout",
     "output_type": "stream",
     "text": [
      "('kiwi', 'cherry', 'apple')\n"
     ]
    }
   ],
   "source": [
    "#Trích xuất một phần hoặc nhiều phần tử đứng đơn lẻ:\n",
    "'''\n",
    "dấu - trong index thể hiện sự đảo ngược trong tuple\n",
    "2, ... thể hiện bược nhẩy của index, ví dụ là 2 thì sẽ lấy phần tử đầu là apple với index là 0 và nhảy 2 phần tử\n",
    "'''\n",
    "my_tuple = ('apple', 'banana', 'cherry', 'orange', 'kiwi')\n",
    "print(my_tuple[::-2]) # Output: ('apple', 'cherry', 'kiwi')\n",
    "print(my_tuple[::2]) # Output: ('apple', 'cherry', 'kiwi')\n",
    "\n"
   ]
  },
  {
   "cell_type": "code",
   "execution_count": 27,
   "metadata": {},
   "outputs": [
    {
     "name": "stdout",
     "output_type": "stream",
     "text": [
      "('orange', 'cherry')\n"
     ]
    }
   ],
   "source": [
    "my_tuple = ('apple', 'banana', 'cherry')\n",
    "new_tuple = my_tuple[:1] + ('orange',) + my_tuple[2:]\n",
    "print(new_tuple) # Output: ('apple', 'orange', 'cherry')\n"
   ]
  }
 ],
 "metadata": {
  "kernelspec": {
   "display_name": "Python 3",
   "language": "python",
   "name": "python3"
  },
  "language_info": {
   "codemirror_mode": {
    "name": "ipython",
    "version": 3
   },
   "file_extension": ".py",
   "mimetype": "text/x-python",
   "name": "python",
   "nbconvert_exporter": "python",
   "pygments_lexer": "ipython3",
   "version": "3.10.10"
  },
  "orig_nbformat": 4
 },
 "nbformat": 4,
 "nbformat_minor": 2
}
