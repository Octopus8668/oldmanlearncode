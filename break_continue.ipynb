{
 "cells": [
  {
   "cell_type": "code",
   "execution_count": 1,
   "metadata": {},
   "outputs": [
    {
     "name": "stdout",
     "output_type": "stream",
     "text": [
      "0\n",
      "1\n",
      "2\n",
      "3\n",
      "4\n",
      "Done\n",
      "1\n",
      "3\n",
      "5\n",
      "7\n",
      "9\n",
      "Done\n"
     ]
    }
   ],
   "source": [
    "'''\n",
    "break được sử dụng để kết thúc một vòng lặp trong khi chương trình đang thực thi.\n",
    "Khi một câu lệnh break được gọi, vòng lặp bên trong nó sẽ dừng lại ngay lập tức \n",
    "và chương trình sẽ tiếp tục thực hiện những lệnh có sau vòng lặp (nếu có).\n",
    "\n",
    "continue được sử dụng để bỏ qua một phần của vòng lặp và quay trở lại kiểm tra điều kiện của vòng lặp để tiếp tục chạy. Khi một câu lệnh continue được gọi, chương trình sẽ bỏ qua các câu lệnh còn lại trong vòng lặp và tiếp tục kiểm tra điều kiện của vòng lặp để xác định liệu có tiếp tục thực thi vòng lặp hay không.\n",
    "\n",
    "'''\n",
    "\n",
    "\n",
    "# break example\n",
    "for i in range(10):\n",
    "    if i == 5:\n",
    "        break\n",
    "    print(i)\n",
    "print(\"Done\")\n",
    "\n",
    "# continue example\n",
    "for i in range(10):\n",
    "    if i % 2 == 0:\n",
    "        continue\n",
    "    print(i)\n",
    "print(\"Done\")\n",
    "\n"
   ]
  }
 ],
 "metadata": {
  "kernelspec": {
   "display_name": "Python 3",
   "language": "python",
   "name": "python3"
  },
  "language_info": {
   "codemirror_mode": {
    "name": "ipython",
    "version": 3
   },
   "file_extension": ".py",
   "mimetype": "text/x-python",
   "name": "python",
   "nbconvert_exporter": "python",
   "pygments_lexer": "ipython3",
   "version": "3.10.10"
  },
  "orig_nbformat": 4
 },
 "nbformat": 4,
 "nbformat_minor": 2
}
