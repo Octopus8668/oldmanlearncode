{
 "cells": [
  {
   "attachments": {},
   "cell_type": "markdown",
   "metadata": {},
   "source": [
    "Dictionary là một kiểu dữ liệu trong Python giúp lưu trữ các giá trị có khóa tương ứng. Bạn có thể sử dụng dictionary để lưu trữ, truy xuất và sắp xếp các giá trị theo cách linh hoạt hơn.\n",
    "\n",
    "Để khởi tạo một dictionary, ta sử dụng cặp dấu ngoặc nhọn {} và các cặp khóa-giá trị được phân tách bởi dấu : và các cặp này được phân tách bởi dấu \n",
    "\n",
    "Một số hàm hay sử dụng khi làm việc với dictionary trong Python:\n",
    "\n",
    "Hàm len(dict): Trả về số lượng cặp khóa-giá trị trong dictionary.\n",
    "\n",
    "Phương thức dict.clear(): Xóa tất cả các cặp khóa-giá trị của dictionary.\n",
    "\n",
    "Phương thức dict.copy(): Trả về một bản sao của dictionary.\n",
    "\n",
    "Hàm dict.fromkeys(keys[, value]): Tạo ra một dictionary mới với các khóa (keys) từ list keys và giá trị value được sử dụng cho tất cả các khóa (nếu không có giá trị value được cung cấp, các khóa sẽ được thiết lập thành None).\n",
    "\n",
    "Phương thức dict.get(key[, default]): Trả về giá trị của khóa key nếu key tồn tại trong dictionary, nếu không trả về giá trị default (mặc định là None).\n",
    "\n",
    "Hàm dict.items(): Trả về một danh sách các cặp khóa-giá trị của dictionary dưới dạng một list-like object (tức là một danh sách gồm các tuple).\n",
    "\n",
    "Hàm dict.keys(): Trả về một danh sách chứa tất cả các khóa của dictionary.\n",
    "\n",
    "Phương thức dict.pop(key[, default]): Xóa khóa key khỏi dictionary và trả về giá trị tương ứng. Nếu key không tồn tại và default được cung cấp thì trả về giá trị default, nếu không sẽ báo lỗi KeyError.\n",
    "\n",
    "Phương thức dict.popitem(): Xóa và trả về một cặp khóa-giá trị ngẫu nhiên từ dictionary. Nếu dictionary rỗng, sẽ báo lỗi KeyError.\n",
    "\n",
    "Phương thức dict.setdefault(key[, default]): Trả về giá trị của khóa key nếu key tồn tại trong dictionary, nếu không thiết lập key với giá trị default và trả về default.\n",
    "\n",
    "Phương thức dict.update([other]): Cập nhật dictionary với các cặp khóa-giá trị từ dictionary khác hoặc từ iterable object.\n",
    "\n",
    "Hàm dict.values(): Trả về một danh sách các giá trị của dictionary.\n",
    "\n",
    "Đó là một số hàm và phương thức thường được sử dụng khi làm việc với dictionary trong Python."
   ]
  },
  {
   "cell_type": "code",
   "execution_count": 12,
   "metadata": {},
   "outputs": [
    {
     "name": "stdout",
     "output_type": "stream",
     "text": [
      "{'name': 'Mạnh', 'age': 31, 'city': 'Hà Nội', 'gender': 'Man'}\n",
      "Mạnh\n",
      "31\n",
      "Hà Nội\n",
      "Man\n",
      "Before update: {'name': 'Mạnh', 'age': 31, 'city': 'Hà Nội', 'gender': 'Man'}\n",
      "After update: {'name': 'Long', 'age': 31, 'city': 'Hà Nội', 'gender': 'Man'}\n",
      "\n",
      "\n",
      "Before update: {'name': 'Long', 'age': 31, 'city': 'Hà Nội', 'gender': 'Man'}\n",
      "After update: {'name': 'Long', 'age': 31, 'city': 'Hà Nội', 'gender': 'Man', 'name1': 'Long'}\n",
      "\n",
      "\n",
      "Before update: {'name': 'Long', 'age': 31, 'city': 'Hà Nội', 'gender': 'Man', 'name1': 'Long'}\n",
      "After update: {'name': 'Long', 'age': 31, 'city': 'Hà Nội', 'gender': 'Man'}\n"
     ]
    }
   ],
   "source": [
    "my_dict = {\"name\":\"Mạnh\",\"age\":31,\"city\":\"Hà Nội\",\"gender\":\"Man\"}\n",
    "print(my_dict)#{'name': 'Mạnh', 'age': 31, 'city': 'Hà Nội', 'gender': 'Man'}\n",
    "print(my_dict[\"name\"])\n",
    "print(my_dict[\"age\"])\n",
    "print(my_dict[\"city\"])\n",
    "print(my_dict[\"gender\"])\n",
    "'''\n",
    "Muôn thêm phân tử và Dict ta sử dụng cú pháp my_dict[\"name\"] = \"Long\" trường hợp key ( name) đã tồn tại thì cầu lệnh đó sẽ có tác dụng là update\n",
    "còn nếu chưa tồn tại thì nó có giá trị như là thêm mới\n",
    "'''\n",
    "print(\"Before update: {}\".format(my_dict))\n",
    "my_dict[\"name\"] = \"Long\"\n",
    "print(\"After update: {}\".format(my_dict))\n",
    "print(\"\\n\")\n",
    "print(\"Before update: {}\".format(my_dict))\n",
    "my_dict[\"name1\"] = \"Long\"\n",
    "print(\"After update: {}\".format(my_dict))\n",
    "print(\"\\n\")\n",
    "\n",
    "# Đối với trường hợp xóa key thì nếu key tồn tại thì xóa được, còn không tồn tại thì hệ thống sẽ báo lỗi\n",
    "#\n",
    "print(\"Before update: {}\".format(my_dict))\n",
    "del my_dict[\"name1\"]\n",
    "print(\"After update: {}\".format(my_dict))\n",
    "\n"
   ]
  },
  {
   "attachments": {},
   "cell_type": "markdown",
   "metadata": {},
   "source": [
    "I. Một số hàm hay sử dụng khi làm việc với dictionary trong Python:"
   ]
  },
  {
   "cell_type": "code",
   "execution_count": 16,
   "metadata": {},
   "outputs": [
    {
     "name": "stdout",
     "output_type": "stream",
     "text": [
      "4\n"
     ]
    }
   ],
   "source": [
    "# Hàm len(dict): Trả về số lượng cặp khóa-giá trị trong dictionary.\n",
    "my_dict = {\"name\":\"Mạnh\",\"age\":31,\"city\":\"Hà Nội\",\"gender\":\"Man\"}\n",
    "\n",
    "print(len(my_dict)) # kết quả là 4"
   ]
  },
  {
   "cell_type": "code",
   "execution_count": 20,
   "metadata": {},
   "outputs": [
    {
     "name": "stdout",
     "output_type": "stream",
     "text": [
      "{}\n"
     ]
    }
   ],
   "source": [
    "#Phương thức dict.clear(): Xóa tất cả các cặp khóa-giá trị của dictionary.\n",
    "my_dict = {\"name\":\"Mạnh\",\"age\":31,\"city\":\"Hà Nội\",\"gender\":\"Man\"}\n",
    "my_dict.clear()\n",
    "print(my_dict) # kết quả là  không có phần tử nào trong dict"
   ]
  },
  {
   "cell_type": "code",
   "execution_count": 21,
   "metadata": {},
   "outputs": [
    {
     "name": "stdout",
     "output_type": "stream",
     "text": [
      "{'name': 'Mạnh', 'age': 31, 'city': 'Hà Nội', 'gender': 'Man'}\n"
     ]
    }
   ],
   "source": [
    "#Phương thức dict.copy(): Trả về một bản sao của dictionary.\n",
    "my_dict = {\"name\":\"Mạnh\",\"age\":31,\"city\":\"Hà Nội\",\"gender\":\"Man\"}\n",
    "my_dict_new = my_dict.copy()\n",
    "print(my_dict_new) # kết quả là  tương tự như my_dict"
   ]
  },
  {
   "cell_type": "code",
   "execution_count": 17,
   "metadata": {},
   "outputs": [
    {
     "name": "stdout",
     "output_type": "stream",
     "text": [
      "dict_keys(['name', 'age', 'city', 'gender'])\n"
     ]
    }
   ],
   "source": [
    "# Liệt kê các key trong dict\n",
    "my_dict = {\"name\":\"Mạnh\",\"age\":31,\"city\":\"Hà Nội\",\"gender\":\"Man\"}\n",
    "\n",
    "print(my_dict.keys()) # dict_keys(['name', 'age', 'city', 'gender'])"
   ]
  },
  {
   "cell_type": "code",
   "execution_count": 13,
   "metadata": {},
   "outputs": [
    {
     "name": "stdout",
     "output_type": "stream",
     "text": [
      "dict_keys(['name', 'age', 'city', 'gender'])\n"
     ]
    }
   ],
   "source": [
    "# Liệt kê các key trong dict\n",
    "my_dict = {\"name\":\"Mạnh\",\"age\":31,\"city\":\"Hà Nội\",\"gender\":\"Man\"}\n",
    "\n",
    "print(my_dict.keys())"
   ]
  },
  {
   "cell_type": "code",
   "execution_count": 14,
   "metadata": {},
   "outputs": [
    {
     "name": "stdout",
     "output_type": "stream",
     "text": [
      "dict_values(['Mạnh', 31, 'Hà Nội', 'Man'])\n"
     ]
    }
   ],
   "source": [
    "# Liệt kê các value trong dict\n",
    "my_dict = {\"name\":\"Mạnh\",\"age\":31,\"city\":\"Hà Nội\",\"gender\":\"Man\"}\n",
    "\n",
    "print(my_dict.values())"
   ]
  },
  {
   "cell_type": "code",
   "execution_count": 15,
   "metadata": {},
   "outputs": [
    {
     "name": "stdout",
     "output_type": "stream",
     "text": [
      "dict_items([('name', 'Mạnh'), ('age', 31), ('city', 'Hà Nội'), ('gender', 'Man')])\n"
     ]
    }
   ],
   "source": [
    "#Hàm dict.items(): Trả về một danh sách các cặp khóa-giá trị của dictionary dưới dạng một list-like object (tức là một danh sách gồm các tuple)\n",
    "my_dict = {\"name\":\"Mạnh\",\"age\":31,\"city\":\"Hà Nội\",\"gender\":\"Man\"}\n",
    "\n",
    "print(my_dict.items())"
   ]
  },
  {
   "cell_type": "code",
   "execution_count": 28,
   "metadata": {},
   "outputs": [
    {
     "name": "stdout",
     "output_type": "stream",
     "text": [
      "Before update: {'name': 'Mạnh', 'age': 31, 'city': 'Hà Nội', 'gender': 'Man'}\n",
      "After update: {'age': 31, 'city': 'Hà Nội', 'gender': 'Man'}\n",
      "Before update: {'name': 'Mạnh', 'age': 31, 'city': 'Hà Nội', 'gender': 'Man'}\n",
      "dict_del_value is Mạnh\n",
      "After update: {'age': 31, 'city': 'Hà Nội', 'gender': 'Man'}\n"
     ]
    }
   ],
   "source": [
    "#  xóa key khỏi dict tá có 2 cách là sử dụng del dict hoặc dict.pop\n",
    "#  Cách 1 sử dụng del\n",
    "my_dict = {\"name\":\"Mạnh\",\"age\":31,\"city\":\"Hà Nội\",\"gender\":\"Man\"}\n",
    "\n",
    "print(\"Before update: {}\".format(my_dict))\n",
    "del my_dict[\"name\"]\n",
    "print(\"After update: {}\".format(my_dict))\n",
    "\n",
    "# cách 2 sử dung dict.pop thì mình có  thể lấy được giá trị bị del và lưu trữ ở đâu đó để làm report \n",
    "\n",
    "my_dict = {\"name\":\"Mạnh\",\"age\":31,\"city\":\"Hà Nội\",\"gender\":\"Man\"}\n",
    "\n",
    "print(\"Before update: {}\".format(my_dict))\n",
    "dict_del_value= my_dict.pop('name')\n",
    "print('dict_del_value is {}'.format(dict_del_value))\n",
    "print(\"After update: {}\".format(my_dict))\n",
    "\n",
    "\n"
   ]
  },
  {
   "cell_type": "code",
   "execution_count": 31,
   "metadata": {},
   "outputs": [
    {
     "name": "stdout",
     "output_type": "stream",
     "text": [
      "{'name': None, 'age': None, 'city': None}\n",
      "{'name': None, 'age': None, 'gender': None}\n",
      "{'name': None, 'age': None, 'gender': None}\n"
     ]
    }
   ],
   "source": [
    "# dict.fromkeys(keys[, value])\n",
    "key = [\"name\",\"age\",\"city\"]\n",
    "my_dict = dict.fromkeys(key)\n",
    "print(my_dict)\n",
    "\n",
    "# Tạo một từ điển mới với các key từ một list\n",
    "my_keys = ['name', 'age', 'gender']\n",
    "my_dict = dict.fromkeys(my_keys)\n",
    "print(my_dict)  # Output: {'name': None, 'age': None, 'gender': None}\n",
    "\n",
    "# Tạo một từ điển mới với các key và giá trị mặc định\n",
    "my_dict = dict.fromkeys(['name', 'age', 'gender'])\n",
    "print(my_dict)  # Output: {'name': 'unknown', 'age': 'unknown', 'gender': 'unknown'}\n"
   ]
  },
  {
   "cell_type": "code",
   "execution_count": 32,
   "metadata": {},
   "outputs": [
    {
     "name": "stdout",
     "output_type": "stream",
     "text": [
      "Mạnh\n"
     ]
    }
   ],
   "source": [
    "# dict.get(key[, default])\n",
    "my_dict = {\"name\":\"Mạnh\",\"age\":31,\"city\":\"Hà Nội\",\"gender\":\"Man\"}\n",
    "a = my_dict[\"name\"]\n",
    "print(a)"
   ]
  },
  {
   "attachments": {},
   "cell_type": "markdown",
   "metadata": {},
   "source": [
    "So sánh mydict[\"key\"] với  mydict.get(\"key\")\n",
    "Cả hai phương thức đều được sử dụng để truy xuất giá trị của một cặp key-value trong dictionary. Tuy nhiên, khi sử dụng mydict[\"name\"], nếu key \"name\" không tồn tại trong dictionary, Python sẽ raise lỗi KeyError. Trong khi đó, khi sử dụng mydict.get(\"name\"), nếu key \"name\" không tồn tại trong dictionary, phương thức get() sẽ trả về giá trị mặc định là None chứ không phải lỗi.\n",
    "\n",
    "Do đó, khi bạn biết chính xác rằng key mà bạn đang truy xuất đã tồn tại trong dictionary, sử dụng phương thức mydict[\"name\"] sẽ cho kết quả nhanh hơn và đơn giản hơn. Nhưng nếu không chắc chắn về việc key có tồn tại hay không, hoặc muốn xử lý trường hợp key không tồn tại, nên sử dụng phương thức mydict.get(\"name\")."
   ]
  },
  {
   "cell_type": "code",
   "execution_count": 34,
   "metadata": {},
   "outputs": [
    {
     "name": "stdout",
     "output_type": "stream",
     "text": [
      "John\n",
      "John\n",
      "Khong tìm thấy kết quả\n"
     ]
    },
    {
     "ename": "KeyError",
     "evalue": "'gender'",
     "output_type": "error",
     "traceback": [
      "\u001b[1;31m---------------------------------------------------------------------------\u001b[0m",
      "\u001b[1;31mKeyError\u001b[0m                                  Traceback (most recent call last)",
      "Cell \u001b[1;32mIn[34], line 14\u001b[0m\n\u001b[0;32m     11\u001b[0m \u001b[39mprint\u001b[39m(my_dict\u001b[39m.\u001b[39mget(\u001b[39m'\u001b[39m\u001b[39mgender\u001b[39m\u001b[39m'\u001b[39m,\u001b[39m'\u001b[39m\u001b[39mKhong tìm thấy kết quả\u001b[39m\u001b[39m'\u001b[39m))    \u001b[39m# output: None\u001b[39;00m\n\u001b[0;32m     13\u001b[0m \u001b[39m# Sử dụng mydict[\"key\"] với key không tồn tại sẽ raise KeyError\u001b[39;00m\n\u001b[1;32m---> 14\u001b[0m \u001b[39mprint\u001b[39m(my_dict[\u001b[39m\"\u001b[39;49m\u001b[39mgender\u001b[39;49m\u001b[39m\"\u001b[39;49m])    \u001b[39m# KeyError: 'gender'\u001b[39;00m\n",
      "\u001b[1;31mKeyError\u001b[0m: 'gender'"
     ]
    }
   ],
   "source": [
    "# Khởi tạo dictionary\n",
    "my_dict = {\"name\": \"John\", \"age\": 30, \"city\": \"New York\"}\n",
    "\n",
    "# Sử dụng phương thức mydict[\"key\"]\n",
    "print(my_dict[\"name\"])    # output: John\n",
    "\n",
    "# Sử dụng phương thức mydict.get(\"key\")\n",
    "print(my_dict.get(\"name\"))   # output: John\n",
    "\n",
    "# Lấy giá trị của một key không tồn tại trong dictionary\n",
    "print(my_dict.get('gender','Khong tìm thấy kết quả'))    # output: Khong tìm thấy kết quả\n",
    "\n",
    "# Sử dụng mydict[\"key\"] với key không tồn tại sẽ raise KeyError\n",
    "print(my_dict[\"gender\"])    # KeyError: 'gender'\n"
   ]
  },
  {
   "cell_type": "code",
   "execution_count": 35,
   "metadata": {},
   "outputs": [
    {
     "name": "stdout",
     "output_type": "stream",
     "text": [
      "Before update: {'name': 'John', 'age': 30, 'city': 'New York'}\n",
      "After update: {'name': 'Long', 'age': 30, 'city': 'New York'}\n",
      "Before update: {'name': 'John', 'age': 30, 'city': 'New York'}\n",
      "After update: {'name': 'John', 'age': 30, 'city': 'New York', 'name1': 'Mai'}\n",
      "Before update: {'name': 'John', 'age': 30, 'city': 'New York'}\n",
      "After update: {'name': 'Long', 'age': 30, 'city': 'New York', 'name1': 'Mai'}\n"
     ]
    }
   ],
   "source": [
    "# sự khác nhau giữ mydict[\"name\"] = \"Manh\" và person.update({\"\"name\",\"manh\"})\n",
    "# là mydict[\"name\"] = \"Manh\" dùng để insert hoặc update 1  key còn person.update({\"\"name\",\"manh\"}) có thể là  thêm mới hoặc sửa 1 loạt key\n",
    "my_dict = {\"name\": \"John\", \"age\": 30, \"city\": \"New York\"}\n",
    "\n",
    "print(\"Before update: {}\".format(my_dict))\n",
    "my_dict[\"name\"] = \"Long\"\n",
    "print(\"After update: {}\".format(my_dict))\n",
    "\n",
    "my_dict = {\"name\": \"John\", \"age\": 30, \"city\": \"New York\"}\n",
    "print(\"Before update: {}\".format(my_dict))\n",
    "my_dict[\"name1\"] = \"Mai\"\n",
    "print(\"After update: {}\".format(my_dict))\n",
    "\n",
    "\n",
    "my_dict = {\"name\": \"John\", \"age\": 30, \"city\": \"New York\"}\n",
    "print(\"Before update: {}\".format(my_dict))\n",
    "my_dict.update({\"name\":\"Long\",\"name1\":\"Mai\"})\n",
    "print(\"After update: {}\".format(my_dict))\n",
    "\n",
    "\n"
   ]
  },
  {
   "cell_type": "code",
   "execution_count": 38,
   "metadata": {},
   "outputs": [
    {
     "name": "stdout",
     "output_type": "stream",
     "text": [
      "my_dict is {}\n",
      "my_del_dict is {'city': 'New York', 'age': 30, 'name': 'John'}\n"
     ]
    }
   ],
   "source": [
    "'''\n",
    "Phương thức dict.popitem() được sử dụng để loại bỏ một cặp key-value ngẫu nhiên từ dictionary và trả về giá trị của cặp đó. Thường thì phương thức này được sử dụng khi bạn muốn thực hiện việc loại bỏ một phần tử ngẫu nhiên trong dictionary, chẳng hạn như sau:\n",
    "\n",
    "Nếu bạn không quan tâm đến key hoặc value của phần tử bị loại bỏ và chỉ cần loại bỏ một phần tử bất kỳ để giảm kích thước của dictionary.\n",
    "Khi bạn muốn duyệt qua dictionary và xóa đồng thời các phần tử bên trong, đồng thời sử dụng popitem() để lấy giá trị key-value của các phần tử đó, ví dụ:\n",
    "'''\n",
    "#\n",
    "my_dict = {\"name\": \"John\", \"age\": 30, \"city\": \"New York\"}\n",
    "my_del_dict = {}\n",
    "while len(my_dict) > 0:\n",
    "    key, value = my_dict.popitem()\n",
    "    my_del_dict[key] = value\n",
    "\n",
    "print('my_dict is {}'.format(my_dict))\n",
    "print('my_del_dict is {}'.format(my_del_dict))\n"
   ]
  },
  {
   "cell_type": "code",
   "execution_count": 39,
   "metadata": {},
   "outputs": [
    {
     "name": "stdout",
     "output_type": "stream",
     "text": [
      "New York\n",
      "{'name': 'John', 'age': 30, 'city': 'New York'}\n",
      "London\n",
      "{'name': 'John', 'age': 30, 'city': 'London'}\n"
     ]
    }
   ],
   "source": [
    "# dict.setdefault(key, default=None)\n",
    "'''\n",
    "dict.setdefault(key, default=None) là một phương thức của đối tượng dict trong Python. Nó được sử dụng để truy xuất giá trị ứng với một khóa (key) trong dictionary. Nếu khóa đó không tồn tại trong dictionary, phương thức setdefault() sẽ thêm một cặp key-value mới vào dictionary với giá trị value được thiết lập bằng giá trị mặc định nếu có (default), hoặc là None nếu không có.\n",
    "\n",
    "'''\n",
    "# Trường hợp key chưa tồn tại trong my_dict thì key, value sẽ được thêm vào my_dict\n",
    "my_dict = {'name': 'John', 'age': 30}\n",
    "city = my_dict.setdefault('city', 'New York')\n",
    "print(city) # Output: 'New York'\n",
    "print(my_dict) # Output: {'name': 'John', 'age': 30, 'city': 'New York'}\n",
    "\n",
    "# Trường hợp key đã tồn tại , cho dù value có thay đổi thì my_dict.setdefault cũng không làm thay đổi values của key\n",
    "my_dict = {'name': 'John', 'age': 30, 'city': 'London'}\n",
    "city = my_dict.setdefault('city', 'New York')\n",
    "print(city) # Output: 'London'\n",
    "print(my_dict) # Output: {'name': 'John', 'age': 30, 'city': 'London'}\n",
    "\n",
    "\n"
   ]
  }
 ],
 "metadata": {
  "kernelspec": {
   "display_name": "Python 3",
   "language": "python",
   "name": "python3"
  },
  "language_info": {
   "codemirror_mode": {
    "name": "ipython",
    "version": 3
   },
   "file_extension": ".py",
   "mimetype": "text/x-python",
   "name": "python",
   "nbconvert_exporter": "python",
   "pygments_lexer": "ipython3",
   "version": "3.10.10"
  },
  "orig_nbformat": 4
 },
 "nbformat": 4,
 "nbformat_minor": 2
}
