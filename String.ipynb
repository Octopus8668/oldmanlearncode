{
 "cells": [
  {
   "cell_type": "code",
   "execution_count": 4,
   "metadata": {},
   "outputs": [
    {
     "name": "stdout",
     "output_type": "stream",
     "text": [
      "\n",
      "Chuoi 1\n",
      "Chuoi 2\n",
      "Chuoi 3\n",
      "\n"
     ]
    }
   ],
   "source": [
    "# In ra chuỗi nhiều dòng\n",
    "chuoi_nhieu_dong = '''\n",
    "Chuoi 1\n",
    "Chuoi 2\n",
    "Chuoi 3\n",
    "'''\n",
    "print(chuoi_nhieu_dong)"
   ]
  },
  {
   "cell_type": "code",
   "execution_count": 7,
   "metadata": {},
   "outputs": [
    {
     "name": "stdout",
     "output_type": "stream",
     "text": [
      "NGÀY HÔM NAY LÀ 1/4/2023\n"
     ]
    }
   ],
   "source": [
    "# Viết Hoa hết các ký tự\n",
    "s= 'ngày hôm nay là 1/4/2023'\n",
    "s= s.upper()\n",
    "print(s)"
   ]
  },
  {
   "cell_type": "code",
   "execution_count": 6,
   "metadata": {},
   "outputs": [
    {
     "name": "stdout",
     "output_type": "stream",
     "text": [
      "Hôm nay trời đẹp quá\n"
     ]
    }
   ],
   "source": [
    "# Viết hoa chữ cái đầu tiên\n",
    "s =\"hôm nay trời đẹp quá\"\n",
    "\n",
    "s = str.capitalize(s)\n",
    "\n",
    "print(s)"
   ]
  },
  {
   "cell_type": "code",
   "execution_count": 8,
   "metadata": {},
   "outputs": [
    {
     "name": "stdout",
     "output_type": "stream",
     "text": [
      "mạnh cần phải cố gắng quay trở lại! cố lên nào\n"
     ]
    }
   ],
   "source": [
    "# Viết thường tất cả các ký tự\n",
    "\n",
    "s = \"MẠNH CẦN PHẢI CỐ GẮNG QUAY TRỞ LẠI! CỐ LÊN NÀO\"\n",
    "s= s.lower()\n",
    "print(s)"
   ]
  },
  {
   "cell_type": "code",
   "execution_count": 9,
   "metadata": {},
   "outputs": [
    {
     "name": "stdout",
     "output_type": "stream",
     "text": [
      "Manh khong trong chuoiNhà tôi có Mạnh Mai Minh\n"
     ]
    }
   ],
   "source": [
    "# Kiểm tra chuổi có trong chuối khác không\n",
    "\n",
    "chuoi_1 = \"Nhà tôi có Mạnh Mai Minh\"\n",
    "chuoi_2 = 'Mạnh'\n",
    "chuoi_3 = 'Hung'\n",
    "if chuoi_2 in chuoi_1:\n",
    "    print('{0} trong chuoi{1}'.format(chuoi_2,chuoi_1))\n",
    "else:\n",
    "    print('{0} khong trong chuoi{1}'.format(chuoi_2,chuoi_1))\n",
    "    "
   ]
  },
  {
   "cell_type": "code",
   "execution_count": 13,
   "metadata": {},
   "outputs": [
    {
     "name": "stdout",
     "output_type": "stream",
     "text": [
      "nhà tôi có những thành viên là mạnh mai minh trang\n",
      "nha toi co nhung thanh vien la manh mai minh trang\n"
     ]
    }
   ],
   "source": [
    "# chuyển từ ký tự có dấu sang không dấu\n",
    "from unidecode import  unidecode\n",
    "''' \n",
    "ta sử dụng thư viện unidecode để chuyển đổi từ ký tự có dấu sang không dấu\n",
    "''' \n",
    "s ='nhà tôi có những thành viên là mạnh mai minh trang'\n",
    "print(s)\n",
    "s= unidecode(s)\n",
    "print(s)\n"
   ]
  },
  {
   "cell_type": "code",
   "execution_count": 24,
   "metadata": {},
   "outputs": [
    {
     "name": "stdout",
     "output_type": "stream",
     "text": [
      "10\n",
      "61\n",
      "2\n",
      "1\n",
      "Lập trình Python là xu hướng hiện nay. Ban lên học lập trình Python.\n",
      "Lập trình Python là xu hướng hiện nay. Ban lên học lập trình python.\n"
     ]
    }
   ],
   "source": [
    "''' \n",
    "Tìm và đếm số lượng chuối con trong chuỗi\n",
    "Chúng ta sẽ sử chục chức năng find để tìm kiếm chuỗi nếu tìm thấy sẽ trả về vị trí của ký tự đó\n",
    "Nếu không tìm thấy sẽ trả về  -1\n",
    "Ví dụ\n",
    "s = 'Lập trình python là xu hướng hiện nay. Ban lên học lập trình python.'\n",
    "s = s.find(x,20)  x là ký tự bạn muốn tìm kiếm, từ vị trí 20 là ký tự tìm kiếm\n",
    "'''\n",
    "s = 'Lập trình python là xu hướng hiện nay. Ban lên học lập trình python.'\n",
    "x = 'python'\n",
    "y = 'Python'\n",
    "print(s.find(x)) # Hảm trả về vị trí đầu tiền của x trong\n",
    "print(s.find(x,11)) # Hàm trả về vị trí đầu tiền của x trong s kể từ ký tư thứ  11( có thể thay đổi tùy mình)\n",
    "print(s.count(x)) # hàm count dùng để đếm số lần  xuất hiện của ký tự x trong toàn bộ chuỗi s\n",
    "print(s.count(x,11)) # hàm count dùng để đếm số lần  xuất hiện của ký tự x từ vị trí từ 11\n",
    "print(s.replace(x,y)) # hàm replace dùng để thay thế toàn bộ ký tự y cho x\n",
    "print(s.replace(x,y,1)) # hàm replace dùng để thay thế 1 ký tự y cho x tính từ đầu tiên"
   ]
  },
  {
   "cell_type": "code",
   "execution_count": 28,
   "metadata": {},
   "outputs": [
    {
     "name": "stdout",
     "output_type": "stream",
     "text": [
      "Ký tự s[5] là r\n",
      "Ký tự s[10] là p\n",
      "p\n",
      "rình \n"
     ]
    }
   ],
   "source": [
    "# Cách cắt chuối ký tự\n",
    "# Muốn lấy  từ ký tự 5 tới ký tự 10 trong chuối ta sử dụng  như sau\n",
    "s = 'Lập trình python là xu hướng hiện nay. Ban lên học lập trình python.'\n",
    "substring = s[5:10] # nhu ví dụ này chúng ta sẽ lấy từ ký tự 5 tới ký tứ 9 nếu muốn lấy tới 10 thì ta phải để s[5:11]\n",
    "print('Ký tự s[5] là {0}'.format(s[5]))\n",
    "print('Ký tự s[10] là {0}'.format(s[10]))\n",
    "print(s[10])\n",
    "print(substring)"
   ]
  },
  {
   "cell_type": "code",
   "execution_count": 35,
   "metadata": {},
   "outputs": [
    {
     "name": "stdout",
     "output_type": "stream",
     "text": [
      "['Lập', 'trình', 'python', 'là', 'xu', 'hướng', 'hiến', 'nay.']\n",
      "type s_lists is: <class 'list'>\n",
      "Lập\n",
      "trình\n",
      "python\n",
      "là\n",
      "xu\n",
      "hướng\n",
      "hiến\n",
      "nay.\n"
     ]
    }
   ],
   "source": [
    "# Cắt chuỗi thành list\n",
    "s = \"Lập trình python là xu hướng hiến nay.\"\n",
    "s_lists = s.split(\" \")\n",
    "print(s_lists)\n",
    "print('type s_lists is: ' + str(type(s_lists)))\n",
    "for s_list in s_lists:\n",
    "    print(s_list)"
   ]
  },
  {
   "cell_type": "code",
   "execution_count": 1,
   "metadata": {},
   "outputs": [
    {
     "name": "stdout",
     "output_type": "stream",
     "text": [
      "cợưgn oảđ nầc iỗuhC\n"
     ]
    }
   ],
   "source": [
    "# Đảo ngược chuỗi\n",
    "s= 'Chuỗi cần đảo ngược'\n",
    "s= s[::-1]\n",
    "print(s)"
   ]
  }
 ],
 "metadata": {
  "kernelspec": {
   "display_name": "Python 3",
   "language": "python",
   "name": "python3"
  },
  "language_info": {
   "codemirror_mode": {
    "name": "ipython",
    "version": 3
   },
   "file_extension": ".py",
   "mimetype": "text/x-python",
   "name": "python",
   "nbconvert_exporter": "python",
   "pygments_lexer": "ipython3",
   "version": "3.10.10"
  },
  "orig_nbformat": 4
 },
 "nbformat": 4,
 "nbformat_minor": 2
}
