{
 "cells": [
  {
   "attachments": {},
   "cell_type": "markdown",
   "metadata": {},
   "source": [
    "Trong Python, set là một kiểu dữ liệu được sử dụng để lưu trữ tập các phần tử không có thứ tự và không chứa các phần tử trùng lặp. Set là một tập hợp không tuần tự (unorder collection), mutable (có thể thay đổi), không chứa các phần tử giống nhau, và được bao quanh bởi cặp ngoặc nhọn {}."
   ]
  },
  {
   "cell_type": "code",
   "execution_count": null,
   "metadata": {},
   "outputs": [],
   "source": [
    "# Khởi tạo set\n",
    "my_set = {1, 2, 3, 4, 5}\n",
    "print(my_set)                # Output: {1, 2, 3, 4, 5}\n",
    "\n",
    "# Thêm phần tử vào set\n",
    "my_set.add(6)\n",
    "print(my_set)                # Output: {1, 2, 3, 4, 5, 6}\n",
    "\n",
    "# Loại bỏ phần tử khỏi set\n",
    "my_set.remove(6)\n",
    "print(my_set)                # Output: {1, 2, 3, 4, 5}\n",
    "\n",
    "# Kiểm tra sự tồn tại của phần tử trong set\n",
    "print(2 in my_set)           # Output: True\n",
    "\n",
    "# Lấy số lượng phần tử trong set\n",
    "print(len(my_set))           # Output: 5\n"
   ]
  },
  {
   "attachments": {},
   "cell_type": "markdown",
   "metadata": {},
   "source": [
    "Set thường được sử dụng trong các trường hợp như loại bỏ các phần tử trùng lặp, thực hiện các phép toán tập hợp như union, intersection... Nó cũng là một cấu trúc dữ liệu hiệu quả cho việc xử lý thông tin theo nhóm."
   ]
  },
  {
   "attachments": {},
   "cell_type": "markdown",
   "metadata": {},
   "source": [
    "1. In từng phần tử trong set"
   ]
  },
  {
   "cell_type": "code",
   "execution_count": 6,
   "metadata": {},
   "outputs": [
    {
     "name": "stdout",
     "output_type": "stream",
     "text": [
      "1\n",
      "2\n",
      "3\n",
      "4\n",
      "5\n"
     ]
    }
   ],
   "source": [
    "my_set = {1, 2, 3, 4, 5}\n",
    "for each in my_set:\n",
    "    print(each)\n"
   ]
  },
  {
   "attachments": {},
   "cell_type": "markdown",
   "metadata": {},
   "source": [
    "Do set là tập hợp không có thứ tự các phần tử duy nhất, bạn không thể sử dụng chỉ mục để truy cập các phần tử của một set trực tiếp. Để truy cập một phần tử cụ thể trong set , bạn cót hể chuyển đổi set thành list trước và sau đó truy cập phần tử theo chỉ mục."
   ]
  },
  {
   "cell_type": "code",
   "execution_count": 8,
   "metadata": {},
   "outputs": [
    {
     "name": "stdout",
     "output_type": "stream",
     "text": [
      "2\n",
      "5\n"
     ]
    }
   ],
   "source": [
    "my_set = {1, 2, 3, 4, 5}\n",
    "\n",
    "my_list = list(my_set)\n",
    "\n",
    "print(my_list[1]) # in ra phần tử  ở index 1, phần tử đâu tiên sẽ là index 0\n",
    "print(my_list[-1]) # kết quả trả về sẽ là 5"
   ]
  },
  {
   "attachments": {},
   "cell_type": "markdown",
   "metadata": {},
   "source": [
    "2. sử dụng phương thức remove để làm việc với set\n",
    "Phương thức remove() của set được sử dụng để xóa một phần tử cụ thể khỏi tập hợp. Nếu phần tử đó không có trong set, phương thức sẽ ném ra một lỗi KeyError."
   ]
  },
  {
   "cell_type": "code",
   "execution_count": 11,
   "metadata": {},
   "outputs": [
    {
     "name": "stdout",
     "output_type": "stream",
     "text": [
      "Before remove: {'apple', 'cherry', 'banana'}\n",
      "After remove: {'apple', 'cherry'}\n"
     ]
    }
   ],
   "source": [
    "fruits = {'apple', 'banana', 'cherry'}\n",
    "print('Before remove:', fruits)\n",
    "\n",
    "fruits.remove('banana')\n",
    "print('After remove:', fruits)\n"
   ]
  },
  {
   "attachments": {},
   "cell_type": "markdown",
   "metadata": {},
   "source": [
    "3. Sử dụng add() tương tác với set\n",
    "\n",
    "    Phương thức add() của set được sử dụng để thêm một phần tử mới vào set. Nếu phần tử đó đã có trong set, phương thức add() sẽ không có tác dụng gì cả.\n",
    "\n",
    "    Dưới đây là một ví dụ minh họa sử dụng phương thức add() với một set:"
   ]
  },
  {
   "cell_type": "code",
   "execution_count": 12,
   "metadata": {},
   "outputs": [
    {
     "name": "stdout",
     "output_type": "stream",
     "text": [
      "Before add: {'apple', 'cherry', 'banana'}\n",
      "After add: {'apple', 'cherry', 'date', 'banana'}\n",
      "After add duplicate element: {'apple', 'cherry', 'date', 'banana'}\n"
     ]
    }
   ],
   "source": [
    "fruits = {'apple', 'banana', 'cherry'}\n",
    "print('Before add:', fruits)\n",
    "\n",
    "fruits.add('date')\n",
    "print('After add:', fruits)\n",
    "\n",
    "fruits.add('banana')\n",
    "print('After add duplicate element:', fruits)\n"
   ]
  },
  {
   "cell_type": "markdown",
   "metadata": {},
   "source": [
    "Trong Python, set cung cấp các phương thức `union()`, `intersection()` và `difference()` để thực hiện các phép toán trên tập hợp. Dưới đây là mô tả về từng phương thức:\n",
    "\n",
    "1. Phương thức `union()`: Trả về một set mới chứa tất cả các phần tử của cả hai set.\n",
    "\n",
    "```python\n",
    "set1 = {1, 2, 3}\n",
    "set2 = {3, 4, 5}\n",
    "union_set = set1.union(set2)\n",
    "print(union_set) # Output: {1, 2, 3, 4, 5}\n",
    "```\n",
    "\n",
    "2. Phương thức `intersection()`: Trả về một set mới chứa các phần tử có trong cả hai set.\n",
    "\n",
    "```python\n",
    "set1 = {1, 2, 3}\n",
    "set2 = {3, 4, 5}\n",
    "intersection_set = set1.intersection(set2)\n",
    "print(intersection_set) # Output: {3}\n",
    "```\n",
    "\n",
    "3. Phương thức `difference()`: Trả về một set mới chứa các phần tử chỉ có trong set gọi phương thức mà không có trong set truyền vào.\n",
    "\n",
    "```python\n",
    "set1 = {1, 2, 3}\n",
    "set2 = {3, 4, 5}\n",
    "difference_set = set1.difference(set2)\n",
    "print(difference_set) # Output: {1, 2}\n",
    "```\n",
    "\n",
    "Chú ý rằng bạn có thể áp dụng các phương thức này cho nhiều hơn hai set bằng cách sử dụng toán tử `|` cho phép hợp (union), toán tử `&` cho phép giao (intersection) và toán tử `-` cho phép hiệu (difference):\n",
    "\n",
    "```python\n",
    "set1 = {1, 2, 3}\n",
    "set2 = {3, 4, 5}\n",
    "set3 = {5, 6, 7}\n",
    "union_set = set1 | set2 | set3\n",
    "print(union_set) # Output: {1, 2, 3, 4, 5, 6, 7}\n",
    "\n",
    "intersection_set = set1 & set2 & set3\n",
    "print(intersection_set) # Output: set()\n",
    "\n",
    "difference_set = set1 - set2 - set3\n",
    "print(difference_set) # Output: {1, 2}\n",
    "```"
   ]
  },
  {
   "cell_type": "markdown",
   "metadata": {},
   "source": []
  }
 ],
 "metadata": {
  "kernelspec": {
   "display_name": "Python 3",
   "language": "python",
   "name": "python3"
  },
  "language_info": {
   "codemirror_mode": {
    "name": "ipython",
    "version": 3
   },
   "file_extension": ".py",
   "mimetype": "text/x-python",
   "name": "python",
   "nbconvert_exporter": "python",
   "pygments_lexer": "ipython3",
   "version": "3.10.10"
  },
  "orig_nbformat": 4
 },
 "nbformat": 4,
 "nbformat_minor": 2
}
