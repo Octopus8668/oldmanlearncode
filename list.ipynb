{
 "cells": [
  {
   "cell_type": "code",
   "execution_count": null,
   "metadata": {},
   "outputs": [],
   "source": [
    "# list là một kiểu dữ liệu trong Python được sử dụng để lưu trữ nhiều giá trị có thứ tự và có thể thay đổi. Bạn có thể sử dụng list để:\n"
   ]
  },
  {
   "attachments": {},
   "cell_type": "markdown",
   "metadata": {},
   "source": [
    "1.  len(): Trả về sô lương phần tử trong danh sách"
   ]
  },
  {
   "cell_type": "code",
   "execution_count": 1,
   "metadata": {},
   "outputs": [
    {
     "name": "stdout",
     "output_type": "stream",
     "text": [
      "4\n"
     ]
    }
   ],
   "source": [
    "my_list = [1, 2, 3, 4]\n",
    "print(len(my_list))  # kết quả: 4\n"
   ]
  },
  {
   "attachments": {},
   "cell_type": "markdown",
   "metadata": {},
   "source": [
    "2.  min(): Trả về giá trị nhỏ nhất trong list."
   ]
  },
  {
   "cell_type": "code",
   "execution_count": 8,
   "metadata": {},
   "outputs": [
    {
     "name": "stdout",
     "output_type": "stream",
     "text": [
      "2\n",
      "anh\n",
      "['anh', 'mai', 'manh', 'minh']\n"
     ]
    }
   ],
   "source": [
    "# Trường hợp là ký list là tập hợp kiểu int\n",
    "my_list = [5, 3, 2, 7]\n",
    "print(min(my_list))  # kết quả: 2\n",
    "\n",
    "# \n",
    "my_list =['manh','mai','minh','anh']\n",
    "print(min(my_list)) # kết quả: anh\n",
    "print(sorted(my_list,reverse =False)) # False tăng dần, True là giảm dần\n"
   ]
  },
  {
   "attachments": {},
   "cell_type": "markdown",
   "metadata": {},
   "source": [
    "3.  max(): Trả về giá trị lớn nhất trong list."
   ]
  },
  {
   "cell_type": "code",
   "execution_count": 9,
   "metadata": {},
   "outputs": [
    {
     "name": "stdout",
     "output_type": "stream",
     "text": [
      "7\n"
     ]
    }
   ],
   "source": [
    "my_list = [5, 3, 2, 7]\n",
    "print(max(my_list))  # kết quả: 7\n"
   ]
  },
  {
   "attachments": {},
   "cell_type": "markdown",
   "metadata": {},
   "source": [
    "4.  sum(): Tính tổng của các giá trị trong list."
   ]
  },
  {
   "cell_type": "code",
   "execution_count": 10,
   "metadata": {},
   "outputs": [
    {
     "name": "stdout",
     "output_type": "stream",
     "text": [
      "10\n"
     ]
    }
   ],
   "source": [
    "my_list = [1, 2, 3, 4]\n",
    "print(sum(my_list))  # kết quả: 10\n"
   ]
  },
  {
   "attachments": {},
   "cell_type": "markdown",
   "metadata": {},
   "source": [
    "5.  sorted(): Sắp xếp các phần tử của danh sách theo thứ tự tăng dần hoặc giảm dần và trả về một list mới.\n",
    "True  là giảm dần\n",
    "False là tăng dần\n",
    "Mặc định thì sẽ là tăng dần"
   ]
  },
  {
   "cell_type": "code",
   "execution_count": 11,
   "metadata": {},
   "outputs": [
    {
     "name": "stdout",
     "output_type": "stream",
     "text": [
      "[2, 3, 5, 7]\n",
      "[7, 5, 3, 2]\n"
     ]
    }
   ],
   "source": [
    "my_list = [5, 3, 2, 7]\n",
    "print(sorted(my_list))         # kết quả: [2, 3, 5, 7]\n",
    "print(sorted(my_list, reverse=True)) # kết quả: [7, 5, 3, 2]\n"
   ]
  },
  {
   "attachments": {},
   "cell_type": "markdown",
   "metadata": {},
   "source": [
    "6.  append(): Thêm một phần tử vào cuối danh sách."
   ]
  },
  {
   "cell_type": "code",
   "execution_count": 12,
   "metadata": {},
   "outputs": [
    {
     "name": "stdout",
     "output_type": "stream",
     "text": [
      "[1, 2, 3, 4]\n"
     ]
    }
   ],
   "source": [
    "my_list = [1, 2, 3]\n",
    "my_list.append(4)\n",
    "print(my_list)  # kết quả: [1, 2, 3, 4]\n"
   ]
  },
  {
   "attachments": {},
   "cell_type": "markdown",
   "metadata": {},
   "source": [
    "7.  insert(): Chèn một phần tử vào vị trí chỉ định trong danh sách."
   ]
  },
  {
   "cell_type": "code",
   "execution_count": 13,
   "metadata": {},
   "outputs": [
    {
     "name": "stdout",
     "output_type": "stream",
     "text": [
      "[1, 5, 2, 3]\n"
     ]
    }
   ],
   "source": [
    "my_list = [1, 2, 3]\n",
    "my_list.insert(1, 5)\n",
    "print(my_list)  # kết quả: [1, 5, 2, 3]\n"
   ]
  },
  {
   "attachments": {},
   "cell_type": "markdown",
   "metadata": {},
   "source": [
    "8.  remove(): Xoá phần tử đầu tiên trong danh sách có giá trị tương ứng với giá trị đã cho.\n"
   ]
  },
  {
   "cell_type": "code",
   "execution_count": 14,
   "metadata": {},
   "outputs": [
    {
     "name": "stdout",
     "output_type": "stream",
     "text": [
      "[1, 3, 4]\n"
     ]
    }
   ],
   "source": [
    "my_list = [1, 2, 3, 4]\n",
    "my_list.remove(2)\n",
    "print(my_list)  # kết quả: [1, 3, 4]\n"
   ]
  },
  {
   "attachments": {},
   "cell_type": "markdown",
   "metadata": {},
   "source": [
    "9.   pop(): Xoá phần tử có chỉ số tương ứng và trả về giá trị bị xoá. Nếu không truyền tham số, sẽ xoá phần tử cuối cùng trong danh sách."
   ]
  },
  {
   "cell_type": "code",
   "execution_count": 15,
   "metadata": {},
   "outputs": [
    {
     "name": "stdout",
     "output_type": "stream",
     "text": [
      "2\n",
      "[1, 3]\n"
     ]
    }
   ],
   "source": [
    "my_list = [1, 2, 3]\n",
    "value = my_list.pop(1)\n",
    "print(value)    # kết quả: 2\n",
    "print(my_list)  # kết quả: [1, 3]\n"
   ]
  },
  {
   "attachments": {},
   "cell_type": "markdown",
   "metadata": {},
   "source": [
    "B.   Bài tập về list "
   ]
  },
  {
   "cell_type": "code",
   "execution_count": 3,
   "metadata": {},
   "outputs": [
    {
     "name": "stdout",
     "output_type": "stream",
     "text": [
      "sum_item = 46\n"
     ]
    }
   ],
   "source": [
    "# 1.    White  a Python program to sum  all  the items in the list\n",
    "'''\n",
    "Phân tích để bài : Tính t ổng toàn bộ item \n",
    "'''\n",
    "my_items = [-7,34,-7,26,0] # khai báo  my_items\n",
    "sum_item = 0\n",
    "for item in my_items:\n",
    "    sum_item +=item\n",
    "\n",
    "print(\"sum_item = {}\".format(sum_item))\n"
   ]
  },
  {
   "cell_type": "code",
   "execution_count": 8,
   "metadata": {},
   "outputs": [
    {
     "name": "stdout",
     "output_type": "stream",
     "text": [
      "multi_item = 43316\n"
     ]
    }
   ],
   "source": [
    "# 2.    White  a Python program to Multly  all  the items in the list\n",
    "'''\n",
    "Phân tích để bài : Tính t ổng toàn bộ item \n",
    "'''\n",
    "my_items = [-7,34,-7,26] # khai báo  my_items\n",
    "multiply_item = 1\n",
    "for item in my_items:\n",
    "    multi_item *=item\n",
    "\n",
    "print(\"multi_item = {}\".format(multi_item))"
   ]
  },
  {
   "cell_type": "code",
   "execution_count": 16,
   "metadata": {},
   "outputs": [
    {
     "name": "stdout",
     "output_type": "stream",
     "text": [
      "len(my_items : = 5\n",
      "my_items[0] : = -7\n",
      "max_value by code : = 34\n",
      "max_value by python function : = 34\n"
     ]
    }
   ],
   "source": [
    "# 3. Write a Python program to get the largest number from a list\n",
    "my_items = [-7,34,-7,26,34]\n",
    "\n",
    "max_value = my_items[0]\n",
    "\n",
    "print(\"len(my_items : = {}\".format(len(my_items)))\n",
    "\n",
    "print (\"my_items[0] : = {}\".format(my_items[0]))\n",
    "\n",
    "for item in my_items:\n",
    "    if item > max_value:\n",
    "        max_value = item\n",
    "\n",
    "print (\"max_value by code : = {}\".format(max_value))\n",
    "\n",
    "max_value = max(my_items)\n",
    "\n",
    "print (\"max_value by python function : = {}\".format(max_value))"
   ]
  },
  {
   "cell_type": "code",
   "execution_count": 17,
   "metadata": {},
   "outputs": [
    {
     "name": "stdout",
     "output_type": "stream",
     "text": [
      "len(my_items : = 5\n",
      "my_items[0] : = -7\n",
      "min_value by code : = -7\n",
      "min_value by python function : = -7\n"
     ]
    }
   ],
   "source": [
    "# 4. Write a Python program to get the smallest number from a list\n",
    "my_items = [-7,34,-7,26,34]\n",
    "\n",
    "min_value = my_items[0]\n",
    "\n",
    "print(\"len(my_items : = {}\".format(len(my_items)))\n",
    "\n",
    "print (\"my_items[0] : = {}\".format(my_items[0]))\n",
    "\n",
    "for item in my_items:\n",
    "    if item < min_value:\n",
    "        min_value = item\n",
    "\n",
    "print (\"min_value by code : = {}\".format(min_value))\n",
    "\n",
    "min_value = min(my_items)\n",
    "\n",
    "print (\"min_value by python function : = {}\".format(min_value))"
   ]
  },
  {
   "cell_type": "code",
   "execution_count": 27,
   "metadata": {},
   "outputs": [
    {
     "name": "stdout",
     "output_type": "stream",
     "text": [
      "result_list : = ['aba', '1221']\n",
      "result_count : = 2\n"
     ]
    }
   ],
   "source": [
    "# Bài 5:\n",
    "'''\n",
    "5. Write a Python program to count the number of strings from a given list of strings. The string length is 2 or more and the first and last characters are the same. Go to the editor\n",
    "Sample List : ['abc', 'xyz', 'aba', '1221']\n",
    "Expected Result : 2\n",
    "'''\n",
    "my_items =  ['abc', 'xyz', 'aba', '1221']\n",
    "result_list = []\n",
    "result_count = 0\n",
    "for item in my_items:\n",
    "    len_item = len(item)\n",
    "    # print(item)\n",
    "    # print(len(item))\n",
    "    if len_item >=2 and item[0] == item[-1]:\n",
    "        result_list.append(item)\n",
    "        result_count += 1\n",
    "\n",
    "print (\"result_list : = {}\".format(result_list))\n",
    "print (\"result_count : = {}\".format(result_count))"
   ]
  },
  {
   "cell_type": "code",
   "execution_count": 37,
   "metadata": {},
   "outputs": [
    {
     "name": "stdout",
     "output_type": "stream",
     "text": [
      "5\n",
      "[(2, 1), (1, 2), (2, 3), (4, 4), (2, 5)]\n",
      "[(2, 1), (1, 2), (2, 3), (4, 4), (2, 5)]\n"
     ]
    }
   ],
   "source": [
    "'''\n",
    "6. Write a Python program to get a list, sorted in increasing order by the last element in each tuple from a given list of non-empty tuples. Go to the editor\n",
    "Sample List : [(2, 5), (1, 2), (4, 4), (2, 3), (2, 1)]\n",
    "Expected Result : [(2, 1), (1, 2), (2, 3), (4, 4), (2, 5)]\n",
    "'''\n",
    "input_list = [(2, 5), (1, 2), (4, 4), (2, 3), (2, 1)]\n",
    "print(input_list[0][-1])\n",
    "\n",
    "# sử dụng function có sẵn của python\n",
    "\n",
    "input_list.sort(key=lambda x:x[-1])\n",
    "\n",
    "print(input_list)\n",
    "\n",
    "# def sort_list(input_list):\n",
    "#     for my_tuple in input_list:\n",
    "\n",
    "def selection_sort(tuple_list):\n",
    "    # Chiều dài của list\n",
    "    n = len(tuple_list)\n",
    "\n",
    "    # Lặp qua list\n",
    "    for i in range(n):\n",
    "        # Tìm phần tử nhỏ nhất trong list chưa được sắp xếp\n",
    "        min_idx = i\n",
    "        for j in range(i+1, n):\n",
    "            if tuple_list[j][-1] < tuple_list[min_idx][-1]:\n",
    "                min_idx = j\n",
    "\n",
    "        # Đổi chỗ phần tử nhỏ nhất với phần tử đầu tiên trong list chưa được sắp xếp\n",
    "        tuple_list[i], tuple_list[min_idx] = tuple_list[min_idx], tuple_list[i]\n",
    "    \n",
    "    return tuple_list\n",
    "\n",
    "# Test với danh sách [(2, 5), (1, 2), (4, 4), (2, 3), (2, 1)]\n",
    "tuple_list = [(2, 5), (1, 2), (4, 4), (2, 3), (2, 1)]\n",
    "result = selection_sort(tuple_list)\n",
    "print(result) # Kết quả mong đợi: [(2, 1), (1, 2), (2, 3), (4, 4), (2, 5)]\n"
   ]
  },
  {
   "cell_type": "code",
   "execution_count": 2,
   "metadata": {},
   "outputs": [
    {
     "name": "stdout",
     "output_type": "stream",
     "text": [
      "Empty_list is None\n"
     ]
    }
   ],
   "source": [
    "# 8. Write a Python program to check if a list is empty or not\n",
    "my_list =  ['abc', 'xyz', 'aba', '1221']\n",
    "\n",
    "empty_list = my_list.clear()\n",
    "\n",
    "print (\"Empty_list is {}\".format(empty_list))"
   ]
  },
  {
   "cell_type": "code",
   "execution_count": 3,
   "metadata": {},
   "outputs": [
    {
     "name": "stdout",
     "output_type": "stream",
     "text": [
      "coppy_list is ['abc', 'xyz', 'aba', '1221']\n"
     ]
    }
   ],
   "source": [
    "# 9. Write a Python program to clone or copy a list\n",
    "\n",
    "my_list =  ['abc', 'xyz', 'aba', '1221']\n",
    "\n",
    "coppy_list = my_list.copy()\n",
    "\n",
    "print (\"coppy_list is {}\".format(coppy_list))\n",
    "\n"
   ]
  },
  {
   "cell_type": "code",
   "execution_count": 5,
   "metadata": {},
   "outputs": [
    {
     "name": "stdout",
     "output_type": "stream",
     "text": [
      "result_list is ['1221', '123465']\n"
     ]
    }
   ],
   "source": [
    "# 11. Write a Python function that takes two lists and returns True if they have at least one common member\n",
    "\n",
    "my_list =  ['abc', 'xyz', 'aba', '1221','123465']\n",
    "\n",
    "n =3\n",
    "\n",
    "result_list = []\n",
    "\n",
    "for each in my_list:\n",
    "    if(len(each) > n):\n",
    "        result_list.append(each)\n",
    "\n",
    "print (\"result_list is {}\".format(result_list))"
   ]
  },
  {
   "cell_type": "code",
   "execution_count": 17,
   "metadata": {},
   "outputs": [
    {
     "name": "stdout",
     "output_type": "stream",
     "text": [
      "['Mạnh', 'Trang']\n"
     ]
    }
   ],
   "source": [
    "# 11. Write a Python function that takes two lists and returns True if they have at least one common member.\n",
    "\n",
    "list_1 = [\"Mạnh\",\"Mai\",\"Minh\",\"Trang\"]\n",
    "\n",
    "list_2 = [\"Ông nội\",\"Bà Nội\",\"Ông Ngoại\",\"Bà Ngoại\",\"Mạnh\",\"Trang\"]\n",
    "\n",
    "def check_common_and_return(list1,list2):\n",
    "    result_list = []\n",
    "    for each in list1:\n",
    "        if each in list2:\n",
    "            result_list.append(each)\n",
    "    return result_list\n",
    "\n",
    "result = check_common_and_return(list_1,list_2)\n",
    "\n",
    "print(result)\n"
   ]
  },
  {
   "cell_type": "code",
   "execution_count": 18,
   "metadata": {},
   "outputs": [
    {
     "name": "stdout",
     "output_type": "stream",
     "text": [
      "['Green', 'White', 'Black']\n"
     ]
    }
   ],
   "source": [
    "# 12. Write a Python program to print a specified list after removing the 0th, 4th and 5th elements\n",
    "my_list = ['Red', 'Green', 'White', 'Black', 'Pink', 'Yellow']\n",
    "\n",
    "indices_to_remove = [0,4,5]\n",
    "\n",
    "offset = 0\n",
    "\n",
    "for index in indices_to_remove:\n",
    "    del my_list[index - offset]\n",
    "    offset +=1\n",
    "\n",
    "print(my_list)"
   ]
  },
  {
   "cell_type": "code",
   "execution_count": 26,
   "metadata": {},
   "outputs": [
    {
     "name": "stdout",
     "output_type": "stream",
     "text": [
      "<class 'int'>\n",
      "<class 'int'>\n",
      "<class 'int'>\n",
      "<class 'int'>\n",
      "<class 'int'>\n",
      "<class 'int'>\n",
      "[1, 3, 5, 7, 9]\n"
     ]
    }
   ],
   "source": [
    "# 14. Write a Python program to print the numbers of a specified list after removing even numbers from it.\n",
    "# Viết một chương trình python để in ra những số của list sau khi đã loại bỏ số chắn từ nó.\n",
    "\n",
    "init_list = [1,2,3,4,5,6,7,8,9,10]\n",
    "\n",
    "def remove_even_number(input_list):\n",
    "    for each in input_list:\n",
    "        print(type(each))\n",
    "        if each%2 == 0:\n",
    "            input_list.remove(each)\n",
    "    \n",
    "    return input_list\n",
    "\n",
    "x = remove_even_number(init_list)\n",
    "\n",
    "print(x)\n",
    "\n"
   ]
  },
  {
   "cell_type": "code",
   "execution_count": 30,
   "metadata": {},
   "outputs": [
    {
     "name": "stdout",
     "output_type": "stream",
     "text": [
      "[8, 2, 1, 7, 6, 9, 10, 5, 3, 4]\n"
     ]
    }
   ],
   "source": [
    "# 15. Write a Python program to shuffle and print a specified list.\n",
    "# Viết một chương trình để xáo trộn và in ra sau khi trộn\n",
    "\n",
    "import random\n",
    "\n",
    "init_list = [1,2,3,4,5,6,7,8,9,10]\n",
    "\n",
    "def suffle_list(input_list):\n",
    "    random.shuffle(input_list)\n",
    "    \n",
    "    return input_list\n",
    "\n",
    "x = suffle_list(init_list)\n",
    "\n",
    "print(x)"
   ]
  },
  {
   "cell_type": "code",
   "execution_count": 31,
   "metadata": {},
   "outputs": [
    {
     "name": "stdout",
     "output_type": "stream",
     "text": [
      "[1, 2, 3, 4, 5, 6, 7, 8, 9, 10, 11, 12, 13, 14, 15, 16, 17, 18, 19, 20, 21, 22, 23, 24, 25, 26, 27, 28, 29, 30]\n"
     ]
    }
   ],
   "source": [
    "#16. Write a Python program to generate and print a list of the first and last 5 elements where the values are square numbers between 1 and 30 (both included\n",
    "# Viết một chương  trình tạo chuỗi  từ 1 tới 30 sau đố in ra chuối sau khi lấy \n",
    "my_list = list(range(1,31))\n",
    "print(my_list)\n"
   ]
  }
 ],
 "metadata": {
  "kernelspec": {
   "display_name": "Python 3",
   "language": "python",
   "name": "python3"
  },
  "language_info": {
   "codemirror_mode": {
    "name": "ipython",
    "version": 3
   },
   "file_extension": ".py",
   "mimetype": "text/x-python",
   "name": "python",
   "nbconvert_exporter": "python",
   "pygments_lexer": "ipython3",
   "version": "3.10.10"
  },
  "orig_nbformat": 4
 },
 "nbformat": 4,
 "nbformat_minor": 2
}
